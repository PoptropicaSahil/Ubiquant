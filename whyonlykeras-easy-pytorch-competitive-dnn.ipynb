{
 "cells": [
  {
   "cell_type": "markdown",
   "id": "d93036cf",
   "metadata": {
    "papermill": {
     "duration": 0.112434,
     "end_time": "2022-02-20T01:52:51.044760",
     "exception": false,
     "start_time": "2022-02-20T01:52:50.932326",
     "status": "completed"
    },
    "tags": []
   },
   "source": [
    "### points to take care of now onwards\n",
    "1. Add PCA components\n",
    "1. Search how to make the NN deeper\n",
    "1. Get it on the GPU\n",
    "1. Plot training losses with the validation losses\n",
    "1. **use KFold CV**"
   ]
  },
  {
   "cell_type": "markdown",
   "id": "11121d26",
   "metadata": {
    "papermill": {
     "duration": 0.089309,
     "end_time": "2022-02-20T01:52:51.235959",
     "exception": false,
     "start_time": "2022-02-20T01:52:51.146650",
     "status": "completed"
    },
    "tags": []
   },
   "source": [
    "# usual imports"
   ]
  },
  {
   "cell_type": "code",
   "execution_count": 1,
   "id": "5118efc3",
   "metadata": {
    "execution": {
     "iopub.execute_input": "2022-02-20T01:52:51.416962Z",
     "iopub.status.busy": "2022-02-20T01:52:51.414871Z",
     "iopub.status.idle": "2022-02-20T01:52:54.147075Z",
     "shell.execute_reply": "2022-02-20T01:52:54.145969Z",
     "shell.execute_reply.started": "2022-02-19T12:00:35.629427Z"
    },
    "papermill": {
     "duration": 2.824538,
     "end_time": "2022-02-20T01:52:54.147259",
     "exception": false,
     "start_time": "2022-02-20T01:52:51.322721",
     "status": "completed"
    },
    "tags": []
   },
   "outputs": [],
   "source": [
    "import os\n",
    "import pandas as pd\n",
    "import numpy as np\n",
    "import gc\n",
    "\n",
    "import matplotlib.pyplot as plt\n",
    "from scipy import stats# Imports\n",
    "import torch\n",
    "\n",
    "import torchvision\n",
    "import torch.nn as nn\n",
    "\n",
    "import torch.nn.functional as F\n",
    "\n",
    "from torch.utils.data import DataLoader, TensorDataset, random_split"
   ]
  },
  {
   "cell_type": "code",
   "execution_count": 2,
   "id": "a7aa986d",
   "metadata": {
    "execution": {
     "iopub.execute_input": "2022-02-20T01:52:54.374440Z",
     "iopub.status.busy": "2022-02-20T01:52:54.373353Z",
     "iopub.status.idle": "2022-02-20T01:52:54.377830Z",
     "shell.execute_reply": "2022-02-20T01:52:54.378373Z",
     "shell.execute_reply.started": "2022-02-19T12:00:37.849123Z"
    },
    "papermill": {
     "duration": 0.180554,
     "end_time": "2022-02-20T01:52:54.378575",
     "exception": false,
     "start_time": "2022-02-20T01:52:54.198021",
     "status": "completed"
    },
    "tags": []
   },
   "outputs": [
    {
     "data": {
      "text/plain": [
       "21"
      ]
     },
     "execution_count": 2,
     "metadata": {},
     "output_type": "execute_result"
    }
   ],
   "source": [
    "gc.collect()"
   ]
  },
  {
   "cell_type": "code",
   "execution_count": 3,
   "id": "777c349d",
   "metadata": {
    "execution": {
     "iopub.execute_input": "2022-02-20T01:52:54.487102Z",
     "iopub.status.busy": "2022-02-20T01:52:54.486374Z",
     "iopub.status.idle": "2022-02-20T01:52:54.503792Z",
     "shell.execute_reply": "2022-02-20T01:52:54.503140Z",
     "shell.execute_reply.started": "2022-02-19T12:00:37.963206Z"
    },
    "papermill": {
     "duration": 0.073547,
     "end_time": "2022-02-20T01:52:54.503941",
     "exception": false,
     "start_time": "2022-02-20T01:52:54.430394",
     "status": "completed"
    },
    "tags": []
   },
   "outputs": [
    {
     "name": "stdout",
     "output_type": "stream",
     "text": [
      "/kaggle/input/ubiquant-market-prediction/example_sample_submission.csv\n",
      "/kaggle/input/ubiquant-market-prediction/example_test.csv\n",
      "/kaggle/input/ubiquant-market-prediction/train.csv\n",
      "/kaggle/input/ubiquant-market-prediction/ubiquant/competition.cpython-37m-x86_64-linux-gnu.so\n",
      "/kaggle/input/ubiquant-market-prediction/ubiquant/__init__.py\n",
      "/kaggle/input/ubiquant-market-prediction-half-precision-pickle/train.pkl\n"
     ]
    }
   ],
   "source": [
    "import os\n",
    "for dirname, _, filenames in os.walk('/kaggle/input'):\n",
    "    for filename in filenames:\n",
    "        print(os.path.join(dirname, filename))"
   ]
  },
  {
   "cell_type": "markdown",
   "id": "38809c13",
   "metadata": {
    "papermill": {
     "duration": 0.051684,
     "end_time": "2022-02-20T01:52:54.609097",
     "exception": false,
     "start_time": "2022-02-20T01:52:54.557413",
     "status": "completed"
    },
    "tags": []
   },
   "source": [
    "## Import dataset"
   ]
  },
  {
   "cell_type": "code",
   "execution_count": 4,
   "id": "0181168f",
   "metadata": {
    "execution": {
     "iopub.execute_input": "2022-02-20T01:52:54.719947Z",
     "iopub.status.busy": "2022-02-20T01:52:54.719098Z",
     "iopub.status.idle": "2022-02-20T01:53:12.462828Z",
     "shell.execute_reply": "2022-02-20T01:53:12.463378Z",
     "shell.execute_reply.started": "2022-02-19T12:00:37.984115Z"
    },
    "papermill": {
     "duration": 17.802392,
     "end_time": "2022-02-20T01:53:12.463618",
     "exception": false,
     "start_time": "2022-02-20T01:52:54.661226",
     "status": "completed"
    },
    "tags": []
   },
   "outputs": [
    {
     "data": {
      "text/html": [
       "<div>\n",
       "<style scoped>\n",
       "    .dataframe tbody tr th:only-of-type {\n",
       "        vertical-align: middle;\n",
       "    }\n",
       "\n",
       "    .dataframe tbody tr th {\n",
       "        vertical-align: top;\n",
       "    }\n",
       "\n",
       "    .dataframe thead th {\n",
       "        text-align: right;\n",
       "    }\n",
       "</style>\n",
       "<table border=\"1\" class=\"dataframe\">\n",
       "  <thead>\n",
       "    <tr style=\"text-align: right;\">\n",
       "      <th></th>\n",
       "      <th>investment_id</th>\n",
       "      <th>time_id</th>\n",
       "      <th>f_0</th>\n",
       "      <th>f_1</th>\n",
       "      <th>f_2</th>\n",
       "      <th>f_3</th>\n",
       "      <th>f_4</th>\n",
       "      <th>f_5</th>\n",
       "      <th>f_6</th>\n",
       "      <th>f_7</th>\n",
       "      <th>...</th>\n",
       "      <th>f_291</th>\n",
       "      <th>f_292</th>\n",
       "      <th>f_293</th>\n",
       "      <th>f_294</th>\n",
       "      <th>f_295</th>\n",
       "      <th>f_296</th>\n",
       "      <th>f_297</th>\n",
       "      <th>f_298</th>\n",
       "      <th>f_299</th>\n",
       "      <th>target</th>\n",
       "    </tr>\n",
       "  </thead>\n",
       "  <tbody>\n",
       "    <tr>\n",
       "      <th>0</th>\n",
       "      <td>1</td>\n",
       "      <td>0</td>\n",
       "      <td>0.932617</td>\n",
       "      <td>0.113708</td>\n",
       "      <td>-0.402100</td>\n",
       "      <td>0.378418</td>\n",
       "      <td>-0.203979</td>\n",
       "      <td>-0.413574</td>\n",
       "      <td>0.965820</td>\n",
       "      <td>1.230469</td>\n",
       "      <td>...</td>\n",
       "      <td>-1.095703</td>\n",
       "      <td>0.200073</td>\n",
       "      <td>0.819336</td>\n",
       "      <td>0.941406</td>\n",
       "      <td>-0.086792</td>\n",
       "      <td>-1.086914</td>\n",
       "      <td>-1.044922</td>\n",
       "      <td>-0.287598</td>\n",
       "      <td>0.321533</td>\n",
       "      <td>-0.300781</td>\n",
       "    </tr>\n",
       "    <tr>\n",
       "      <th>1</th>\n",
       "      <td>2</td>\n",
       "      <td>0</td>\n",
       "      <td>0.811035</td>\n",
       "      <td>-0.514160</td>\n",
       "      <td>0.742188</td>\n",
       "      <td>-0.616699</td>\n",
       "      <td>-0.194214</td>\n",
       "      <td>1.771484</td>\n",
       "      <td>1.427734</td>\n",
       "      <td>1.133789</td>\n",
       "      <td>...</td>\n",
       "      <td>0.912598</td>\n",
       "      <td>-0.734375</td>\n",
       "      <td>0.819336</td>\n",
       "      <td>0.941406</td>\n",
       "      <td>-0.387695</td>\n",
       "      <td>-1.086914</td>\n",
       "      <td>-0.929688</td>\n",
       "      <td>-0.974121</td>\n",
       "      <td>-0.343506</td>\n",
       "      <td>-0.231079</td>\n",
       "    </tr>\n",
       "  </tbody>\n",
       "</table>\n",
       "<p>2 rows × 303 columns</p>\n",
       "</div>"
      ],
      "text/plain": [
       "   investment_id  time_id       f_0       f_1       f_2       f_3       f_4  \\\n",
       "0              1        0  0.932617  0.113708 -0.402100  0.378418 -0.203979   \n",
       "1              2        0  0.811035 -0.514160  0.742188 -0.616699 -0.194214   \n",
       "\n",
       "        f_5       f_6       f_7  ...     f_291     f_292     f_293     f_294  \\\n",
       "0 -0.413574  0.965820  1.230469  ... -1.095703  0.200073  0.819336  0.941406   \n",
       "1  1.771484  1.427734  1.133789  ...  0.912598 -0.734375  0.819336  0.941406   \n",
       "\n",
       "      f_295     f_296     f_297     f_298     f_299    target  \n",
       "0 -0.086792 -1.086914 -1.044922 -0.287598  0.321533 -0.300781  \n",
       "1 -0.387695 -1.086914 -0.929688 -0.974121 -0.343506 -0.231079  \n",
       "\n",
       "[2 rows x 303 columns]"
      ]
     },
     "execution_count": 4,
     "metadata": {},
     "output_type": "execute_result"
    }
   ],
   "source": [
    "n_features = 300\n",
    "features = [f'f_{i}' for i in range(n_features)]\n",
    "train = pd.read_pickle('../input/ubiquant-market-prediction-half-precision-pickle/train.pkl')\n",
    "train.head(2)"
   ]
  },
  {
   "cell_type": "code",
   "execution_count": 5,
   "id": "1cfd5317",
   "metadata": {
    "execution": {
     "iopub.execute_input": "2022-02-20T01:53:12.580934Z",
     "iopub.status.busy": "2022-02-20T01:53:12.579456Z",
     "iopub.status.idle": "2022-02-20T01:53:21.425301Z",
     "shell.execute_reply": "2022-02-20T01:53:21.424404Z",
     "shell.execute_reply.started": "2022-02-19T12:00:55.004565Z"
    },
    "papermill": {
     "duration": 8.909507,
     "end_time": "2022-02-20T01:53:21.425502",
     "exception": false,
     "start_time": "2022-02-20T01:53:12.515995",
     "status": "completed"
    },
    "tags": []
   },
   "outputs": [
    {
     "data": {
      "text/plain": [
       "((3141410, 302), (3141410, 1))"
      ]
     },
     "execution_count": 5,
     "metadata": {},
     "output_type": "execute_result"
    }
   ],
   "source": [
    "inputs = train.drop(['target'], axis=1).values\n",
    "targets = train[['target']].values\n",
    "\n",
    "inputs.shape, targets.shape"
   ]
  },
  {
   "cell_type": "markdown",
   "id": "a75b38fd",
   "metadata": {
    "execution": {
     "iopub.execute_input": "2022-02-12T07:05:50.020216Z",
     "iopub.status.busy": "2022-02-12T07:05:50.018581Z",
     "iopub.status.idle": "2022-02-12T07:05:50.028672Z",
     "shell.execute_reply": "2022-02-12T07:05:50.027667Z",
     "shell.execute_reply.started": "2022-02-12T07:05:50.020168Z"
    },
    "papermill": {
     "duration": 0.052219,
     "end_time": "2022-02-20T01:53:21.530949",
     "exception": false,
     "start_time": "2022-02-20T01:53:21.478730",
     "status": "completed"
    },
    "tags": []
   },
   "source": [
    "### 80 % split number - just for splitting"
   ]
  },
  {
   "cell_type": "code",
   "execution_count": 6,
   "id": "59f04e08",
   "metadata": {
    "execution": {
     "iopub.execute_input": "2022-02-20T01:53:21.643938Z",
     "iopub.status.busy": "2022-02-20T01:53:21.642992Z",
     "iopub.status.idle": "2022-02-20T01:53:21.646625Z",
     "shell.execute_reply": "2022-02-20T01:53:21.647184Z",
     "shell.execute_reply.started": "2022-02-19T12:01:02.575604Z"
    },
    "papermill": {
     "duration": 0.063198,
     "end_time": "2022-02-20T01:53:21.647340",
     "exception": false,
     "start_time": "2022-02-20T01:53:21.584142",
     "status": "completed"
    },
    "tags": []
   },
   "outputs": [
    {
     "data": {
      "text/plain": [
       "(2513128, 628282)"
      ]
     },
     "execution_count": 6,
     "metadata": {},
     "output_type": "execute_result"
    }
   ],
   "source": [
    "val_1 = int(0.8*inputs.shape[0])\n",
    "val_2 = int(0.2*inputs.shape[0])\n",
    "val_1, val_2"
   ]
  },
  {
   "cell_type": "markdown",
   "id": "6718ab98",
   "metadata": {
    "execution": {
     "iopub.execute_input": "2022-02-12T07:05:50.030959Z",
     "iopub.status.busy": "2022-02-12T07:05:50.030025Z",
     "iopub.status.idle": "2022-02-12T07:05:50.04492Z",
     "shell.execute_reply": "2022-02-12T07:05:50.043616Z",
     "shell.execute_reply.started": "2022-02-12T07:05:50.030913Z"
    },
    "papermill": {
     "duration": 0.054056,
     "end_time": "2022-02-20T01:53:21.754584",
     "exception": false,
     "start_time": "2022-02-20T01:53:21.700528",
     "status": "completed"
    },
    "tags": []
   },
   "source": [
    "### Hyperparameters"
   ]
  },
  {
   "cell_type": "code",
   "execution_count": 7,
   "id": "5afb8c5a",
   "metadata": {
    "execution": {
     "iopub.execute_input": "2022-02-20T01:53:21.868236Z",
     "iopub.status.busy": "2022-02-20T01:53:21.865937Z",
     "iopub.status.idle": "2022-02-20T01:53:21.869033Z",
     "shell.execute_reply": "2022-02-20T01:53:21.869615Z",
     "shell.execute_reply.started": "2022-02-19T12:01:02.585016Z"
    },
    "papermill": {
     "duration": 0.062732,
     "end_time": "2022-02-20T01:53:21.869780",
     "exception": false,
     "start_time": "2022-02-20T01:53:21.807048",
     "status": "completed"
    },
    "tags": []
   },
   "outputs": [],
   "source": [
    "batch_size = 2000\n",
    "TARGET_COLUMN = 'target'\n",
    "input_size=302\n",
    "output_size=1"
   ]
  },
  {
   "cell_type": "code",
   "execution_count": 8,
   "id": "113799da",
   "metadata": {
    "execution": {
     "iopub.execute_input": "2022-02-20T01:53:22.102112Z",
     "iopub.status.busy": "2022-02-20T01:53:22.101187Z",
     "iopub.status.idle": "2022-02-20T01:53:22.104853Z",
     "shell.execute_reply": "2022-02-20T01:53:22.105411Z",
     "shell.execute_reply.started": "2022-02-19T12:01:02.592655Z"
    },
    "papermill": {
     "duration": 0.182685,
     "end_time": "2022-02-20T01:53:22.105611",
     "exception": false,
     "start_time": "2022-02-20T01:53:21.922926",
     "status": "completed"
    },
    "tags": []
   },
   "outputs": [
    {
     "data": {
      "text/plain": [
       "63"
      ]
     },
     "execution_count": 8,
     "metadata": {},
     "output_type": "execute_result"
    }
   ],
   "source": [
    "del train\n",
    "gc.collect()"
   ]
  },
  {
   "cell_type": "markdown",
   "id": "32757c59",
   "metadata": {
    "execution": {
     "iopub.execute_input": "2022-02-12T07:05:50.048467Z",
     "iopub.status.busy": "2022-02-12T07:05:50.046326Z",
     "iopub.status.idle": "2022-02-12T07:05:53.061696Z",
     "shell.execute_reply": "2022-02-12T07:05:53.060279Z",
     "shell.execute_reply.started": "2022-02-12T07:05:50.048424Z"
    },
    "papermill": {
     "duration": 0.05331,
     "end_time": "2022-02-20T01:53:22.213780",
     "exception": false,
     "start_time": "2022-02-20T01:53:22.160470",
     "status": "completed"
    },
    "tags": []
   },
   "source": [
    "# Convert to PyTorch dataset (DataLoader)"
   ]
  },
  {
   "cell_type": "code",
   "execution_count": 9,
   "id": "da7e9a5f",
   "metadata": {
    "execution": {
     "iopub.execute_input": "2022-02-20T01:53:22.333218Z",
     "iopub.status.busy": "2022-02-20T01:53:22.332527Z",
     "iopub.status.idle": "2022-02-20T01:53:25.355222Z",
     "shell.execute_reply": "2022-02-20T01:53:25.354334Z",
     "shell.execute_reply.started": "2022-02-19T12:01:02.712357Z"
    },
    "papermill": {
     "duration": 3.086923,
     "end_time": "2022-02-20T01:53:25.355381",
     "exception": false,
     "start_time": "2022-02-20T01:53:22.268458",
     "status": "completed"
    },
    "tags": []
   },
   "outputs": [],
   "source": [
    "dataset = TensorDataset(torch.tensor(inputs, dtype=torch.float32), torch.tensor(targets, dtype=torch.float32))\n",
    "train_ds, val_ds = random_split(dataset, [val_1, val_2])\n",
    "\n",
    "train_loader = DataLoader(train_ds, batch_size, shuffle=False) # future predict karna hai na\n",
    "val_loader = DataLoader(val_ds, batch_size*2)"
   ]
  },
  {
   "cell_type": "code",
   "execution_count": 10,
   "id": "354de276",
   "metadata": {
    "execution": {
     "iopub.execute_input": "2022-02-20T01:53:25.510619Z",
     "iopub.status.busy": "2022-02-20T01:53:25.509362Z",
     "iopub.status.idle": "2022-02-20T01:53:25.659045Z",
     "shell.execute_reply": "2022-02-20T01:53:25.658333Z",
     "shell.execute_reply.started": "2022-02-19T12:01:05.378874Z"
    },
    "papermill": {
     "duration": 0.248672,
     "end_time": "2022-02-20T01:53:25.659225",
     "exception": false,
     "start_time": "2022-02-20T01:53:25.410553",
     "status": "completed"
    },
    "tags": []
   },
   "outputs": [
    {
     "data": {
      "text/plain": [
       "42"
      ]
     },
     "execution_count": 10,
     "metadata": {},
     "output_type": "execute_result"
    }
   ],
   "source": [
    "del train_ds, val_ds, dataset, inputs, targets\n",
    "gc.collect()"
   ]
  },
  {
   "cell_type": "markdown",
   "id": "176ed8d7",
   "metadata": {
    "papermill": {
     "duration": 0.054044,
     "end_time": "2022-02-20T01:53:25.766992",
     "exception": false,
     "start_time": "2022-02-20T01:53:25.712948",
     "status": "completed"
    },
    "tags": []
   },
   "source": [
    "## GPU Utilities\n",
    "#### these will help later to get our models/dataloaders on the GPU!"
   ]
  },
  {
   "cell_type": "code",
   "execution_count": 11,
   "id": "8edda8db",
   "metadata": {
    "execution": {
     "iopub.execute_input": "2022-02-20T01:53:25.885375Z",
     "iopub.status.busy": "2022-02-20T01:53:25.884284Z",
     "iopub.status.idle": "2022-02-20T01:53:25.886712Z",
     "shell.execute_reply": "2022-02-20T01:53:25.887263Z",
     "shell.execute_reply.started": "2022-02-19T12:01:05.567626Z"
    },
    "papermill": {
     "duration": 0.067137,
     "end_time": "2022-02-20T01:53:25.887418",
     "exception": false,
     "start_time": "2022-02-20T01:53:25.820281",
     "status": "completed"
    },
    "tags": []
   },
   "outputs": [],
   "source": [
    "def get_default_device():\n",
    "    \"\"\"Pick GPU if available, else CPU\"\"\"\n",
    "    if torch.cuda.is_available():\n",
    "        return torch.device('cuda')\n",
    "    else:\n",
    "        return torch.device('cpu')\n",
    "    \n",
    "def to_device(data, device):\n",
    "    \"\"\"Move tensor(s) to chosen device\"\"\"\n",
    "    if isinstance(data, (list,tuple)):\n",
    "        return [to_device(x, device) for x in data]\n",
    "    return data.to(device, non_blocking=True)\n",
    "\n",
    "class DeviceDataLoader():\n",
    "    \"\"\"Wrap a dataloader to move data to a device\"\"\"\n",
    "    def __init__(self, dl, device):\n",
    "        self.dl = dl\n",
    "        self.device = device\n",
    "        \n",
    "    def __iter__(self):\n",
    "        \"\"\"Yield a batch of data after moving it to device\"\"\"\n",
    "        for b in self.dl: \n",
    "            yield to_device(b, self.device)\n",
    "\n",
    "    def __len__(self):\n",
    "        \"\"\"Number of batches\"\"\"\n",
    "        return len(self.dl)"
   ]
  },
  {
   "cell_type": "markdown",
   "id": "361874c5",
   "metadata": {
    "papermill": {
     "duration": 0.053571,
     "end_time": "2022-02-20T01:53:25.994995",
     "exception": false,
     "start_time": "2022-02-20T01:53:25.941424",
     "status": "completed"
    },
    "tags": []
   },
   "source": [
    "#### Check if GPU is avaliable"
   ]
  },
  {
   "cell_type": "code",
   "execution_count": 12,
   "id": "6cc63725",
   "metadata": {
    "execution": {
     "iopub.execute_input": "2022-02-20T01:53:26.167444Z",
     "iopub.status.busy": "2022-02-20T01:53:26.166457Z",
     "iopub.status.idle": "2022-02-20T01:53:26.170259Z",
     "shell.execute_reply": "2022-02-20T01:53:26.170828Z",
     "shell.execute_reply.started": "2022-02-19T12:01:05.578123Z"
    },
    "papermill": {
     "duration": 0.121857,
     "end_time": "2022-02-20T01:53:26.171005",
     "exception": false,
     "start_time": "2022-02-20T01:53:26.049148",
     "status": "completed"
    },
    "tags": []
   },
   "outputs": [
    {
     "data": {
      "text/plain": [
       "True"
      ]
     },
     "execution_count": 12,
     "metadata": {},
     "output_type": "execute_result"
    }
   ],
   "source": [
    "torch.cuda.is_available()"
   ]
  },
  {
   "cell_type": "code",
   "execution_count": 13,
   "id": "d63756b1",
   "metadata": {
    "execution": {
     "iopub.execute_input": "2022-02-20T01:53:26.287557Z",
     "iopub.status.busy": "2022-02-20T01:53:26.286581Z",
     "iopub.status.idle": "2022-02-20T01:53:26.290211Z",
     "shell.execute_reply": "2022-02-20T01:53:26.290770Z",
     "shell.execute_reply.started": "2022-02-19T12:01:05.63394Z"
    },
    "papermill": {
     "duration": 0.063778,
     "end_time": "2022-02-20T01:53:26.290937",
     "exception": false,
     "start_time": "2022-02-20T01:53:26.227159",
     "status": "completed"
    },
    "tags": []
   },
   "outputs": [
    {
     "data": {
      "text/plain": [
       "device(type='cuda')"
      ]
     },
     "execution_count": 13,
     "metadata": {},
     "output_type": "execute_result"
    }
   ],
   "source": [
    "device = get_default_device()\n",
    "device"
   ]
  },
  {
   "cell_type": "markdown",
   "id": "36e33bc0",
   "metadata": {
    "papermill": {
     "duration": 0.053554,
     "end_time": "2022-02-20T01:53:26.399101",
     "exception": false,
     "start_time": "2022-02-20T01:53:26.345547",
     "status": "completed"
    },
    "tags": []
   },
   "source": [
    "### \"Push\" to the GPU"
   ]
  },
  {
   "cell_type": "code",
   "execution_count": 14,
   "id": "06c0452a",
   "metadata": {
    "execution": {
     "iopub.execute_input": "2022-02-20T01:53:26.521083Z",
     "iopub.status.busy": "2022-02-20T01:53:26.520039Z",
     "iopub.status.idle": "2022-02-20T01:53:26.523280Z",
     "shell.execute_reply": "2022-02-20T01:53:26.522716Z",
     "shell.execute_reply.started": "2022-02-19T12:01:05.644037Z"
    },
    "papermill": {
     "duration": 0.069388,
     "end_time": "2022-02-20T01:53:26.523439",
     "exception": false,
     "start_time": "2022-02-20T01:53:26.454051",
     "status": "completed"
    },
    "tags": []
   },
   "outputs": [],
   "source": [
    "train_loader = DeviceDataLoader(train_loader, device)\n",
    "val_loader = DeviceDataLoader(train_loader, device)"
   ]
  },
  {
   "cell_type": "markdown",
   "id": "f1617022",
   "metadata": {
    "papermill": {
     "duration": 0.0548,
     "end_time": "2022-02-20T01:53:26.632930",
     "exception": false,
     "start_time": "2022-02-20T01:53:26.578130",
     "status": "completed"
    },
    "tags": []
   },
   "source": [
    "# This is the heart of the Neural Network!\n",
    "**feel free to edit the layers anytime**"
   ]
  },
  {
   "cell_type": "markdown",
   "id": "1ad38070",
   "metadata": {
    "papermill": {
     "duration": 0.054468,
     "end_time": "2022-02-20T01:53:26.740869",
     "exception": false,
     "start_time": "2022-02-20T01:53:26.686401",
     "status": "completed"
    },
    "tags": []
   },
   "source": [
    "A lot of credit for this goes to \n",
    "1. Akash N S, for his Jovian.ai Course. This notebook specially makes use of functions from here https://jovian.ai/aakashns-6l3/deep-learning-project-live\n",
    "1. @Pytonash's Recent notebook using Keras, and a very similar structure - End to end simple and powerful DNN with LeakyReLU - https://www.kaggle.com/pythonash/end-to-end-simple-and-powerful-dnn-with-leakyrelu\n",
    "3. General answers from StackOverflow like this one, which helps to make out where should features be placed and ordered https://stackoverflow.com/questions/39691902/ordering-of-batch-normalization-and-dropout"
   ]
  },
  {
   "cell_type": "code",
   "execution_count": 15,
   "id": "485620a9",
   "metadata": {
    "execution": {
     "iopub.execute_input": "2022-02-20T01:53:26.871994Z",
     "iopub.status.busy": "2022-02-20T01:53:26.871122Z",
     "iopub.status.idle": "2022-02-20T01:53:26.894027Z",
     "shell.execute_reply": "2022-02-20T01:53:26.894576Z",
     "shell.execute_reply.started": "2022-02-19T12:01:05.657576Z"
    },
    "papermill": {
     "duration": 0.099019,
     "end_time": "2022-02-20T01:53:26.894802",
     "exception": false,
     "start_time": "2022-02-20T01:53:26.795783",
     "status": "completed"
    },
    "tags": []
   },
   "outputs": [],
   "source": [
    "class My_Kaggle_Model(nn.Module):\n",
    "    def __init__(self):\n",
    "        super().__init__()\n",
    "        \n",
    "        # Activation functions have been chosen either as SiLU (called as Swish in Keras), and LeakyReLU\n",
    "        # I have used them in alternate, please comment if this is a good practice or not!\n",
    "        self.layers = nn.Sequential(nn.Linear(input_size, 64), \n",
    "                                    nn.BatchNorm1d(64), \n",
    "                                    nn.SiLU(), \n",
    "                                    \n",
    "                                    nn.Linear(64, 128), \n",
    "                                    nn.BatchNorm1d(128), \n",
    "                                    # nn.LeakyReLU(0.1), \n",
    "                                    nn.SiLU(),\n",
    "                                    nn.Dropout(0.4),\n",
    "                                    \n",
    "                                    nn.Linear(128, 256), \n",
    "                                    nn.BatchNorm1d(256), \n",
    "                                    nn.SiLU(), \n",
    "                                    nn.Dropout(0.4),\n",
    "                                    \n",
    "                                    nn.Linear(256, 512), \n",
    "                                    nn.BatchNorm1d(512), \n",
    "                                    # nn.LeakyReLU(0.1),\n",
    "                                    nn.SiLU(),\n",
    "                                    nn.Dropout(0.4), \n",
    "                                    \n",
    "                                    nn.Linear(512, 256), \n",
    "                                    nn.BatchNorm1d(256), \n",
    "                                    nn.SiLU(),\n",
    "                                    nn.Dropout(0.4),\n",
    "                                    \n",
    "                                    nn.Linear(256, 128), \n",
    "                                    nn.BatchNorm1d(128), \n",
    "                                    # nn.LeakyReLU(0.1),\n",
    "                                    nn.SiLU(),\n",
    "                                    nn.Dropout(0.4),\n",
    "                                    \n",
    "                                    nn.Linear(128, 8), \n",
    "                                    nn.BatchNorm1d(8), \n",
    "                                    nn.SiLU(), \n",
    "                                    nn.Dropout(0.4),\n",
    "                                    \n",
    "                                    nn.Linear(8, 1) )\n",
    "    \n",
    "        \n",
    "    def forward(self, x):\n",
    "        return self.layers(x)\n",
    "    \n",
    "    def training_step(self, batch):\n",
    "        torch.cuda.empty_cache()\n",
    "        gc.collect()\n",
    "        inputs, targets = batch \n",
    "        inputs.to(device)\n",
    "        targets.to(device)\n",
    "        \n",
    "        out = self(inputs)                 # Generate predictions\n",
    "        loss = F.mse_loss(out, targets)    # Calculate loss\n",
    "        return loss\n",
    "    \n",
    "    def validation_step(self, batch):\n",
    "        torch.cuda.empty_cache()\n",
    "        gc.collect()\n",
    "        inputs, targets = batch \n",
    "        inputs.to(device)\n",
    "        targets.to(device)\n",
    "        \n",
    "        out = self(inputs)                 # Generate predictions\n",
    "        loss = F.mse_loss(out, targets)    # Calculate loss\n",
    "        return {'val_loss': loss.detach()}\n",
    "        \n",
    "    def validation_epoch_end(self, outputs):\n",
    "        batch_losses = [x['val_loss'] for x in outputs]\n",
    "        epoch_loss = torch.stack(batch_losses).mean()   # Combine losses\n",
    "        return {'val_loss': epoch_loss.item()}\n",
    "    \n",
    "    def epoch_end(self, epoch, result):\n",
    "        print(\"Epoch [{}], train_loss: {:.4f}, val_loss: {:.4f}\".format(epoch, result['train_loss'], result['val_loss']))\n",
    "    \n",
    "model = My_Kaggle_Model()"
   ]
  },
  {
   "cell_type": "code",
   "execution_count": 16,
   "id": "88bc5a99",
   "metadata": {
    "execution": {
     "iopub.execute_input": "2022-02-20T01:53:27.012740Z",
     "iopub.status.busy": "2022-02-20T01:53:27.012012Z",
     "iopub.status.idle": "2022-02-20T01:53:30.250859Z",
     "shell.execute_reply": "2022-02-20T01:53:30.250272Z",
     "shell.execute_reply.started": "2022-02-19T12:01:05.69733Z"
    },
    "papermill": {
     "duration": 3.30123,
     "end_time": "2022-02-20T01:53:30.251018",
     "exception": false,
     "start_time": "2022-02-20T01:53:26.949788",
     "status": "completed"
    },
    "tags": []
   },
   "outputs": [],
   "source": [
    "# shift model to GPU\n",
    "model = to_device(model, device)"
   ]
  },
  {
   "cell_type": "markdown",
   "id": "cdc5ca25",
   "metadata": {
    "papermill": {
     "duration": 0.054385,
     "end_time": "2022-02-20T01:53:30.360394",
     "exception": false,
     "start_time": "2022-02-20T01:53:30.306009",
     "status": "completed"
    },
    "tags": []
   },
   "source": [
    "### Simple functions for evaluating and fitting"
   ]
  },
  {
   "cell_type": "code",
   "execution_count": 17,
   "id": "8fde23ec",
   "metadata": {
    "execution": {
     "iopub.execute_input": "2022-02-20T01:53:30.481683Z",
     "iopub.status.busy": "2022-02-20T01:53:30.480638Z",
     "iopub.status.idle": "2022-02-20T01:53:30.483347Z",
     "shell.execute_reply": "2022-02-20T01:53:30.483884Z",
     "shell.execute_reply.started": "2022-02-19T12:01:08.547435Z"
    },
    "papermill": {
     "duration": 0.068071,
     "end_time": "2022-02-20T01:53:30.484052",
     "exception": false,
     "start_time": "2022-02-20T01:53:30.415981",
     "status": "completed"
    },
    "tags": []
   },
   "outputs": [],
   "source": [
    "def evaluate(model, val_loader):\n",
    "    model.eval()  # Setting to eval mode makes sure that dropouts are 'frozen'\n",
    "    outputs = [model.validation_step(batch) for batch in val_loader]\n",
    "    return model.validation_epoch_end(outputs)\n",
    "\n",
    "def fit(epochs, lr, model, train_loader, val_loader, opt_func=torch.optim.SGD):\n",
    "    history = []\n",
    "    optimizer = opt_func(model.parameters(), lr)\n",
    "    for epoch in range(epochs):\n",
    "        # Training Phase \n",
    "        model.train() # Setting to train mode\n",
    "        train_losses = []\n",
    "        \n",
    "        for (i,batch) in enumerate(train_loader):\n",
    "            torch.cuda.empty_cache()\n",
    "            loss = model.training_step(batch)\n",
    "            train_losses.append(loss)\n",
    "            loss.backward()\n",
    "            optimizer.step()\n",
    "            optimizer.zero_grad()\n",
    "            if (i%200 == 0): print('batch number -- ', i)\n",
    "            \n",
    "        # Validation phase\n",
    "        result = evaluate(model, val_loader)\n",
    "        result['train_loss'] = torch.stack(train_losses).mean().item()\n",
    "        model.epoch_end(epoch, result)\n",
    "        history.append(result)\n",
    "        \n",
    "#         # Early Stopping\n",
    "#         if (result['valid_loss'][epoch] > result['valid_loss'][epoch - 1]) & (epoch >0):\n",
    "#             trigger_times += 1\n",
    "#             print('trigger times ', trigger_times)\n",
    "            \n",
    "#             if trigger_times >= patience:\n",
    "#                 print('Early stopping!\\nStart to test process.')\n",
    "#                 return model\n",
    "#         else:\n",
    "#             print('trigger times: 0')\n",
    "#             trigger_times = 0\n",
    "            \n",
    "    return history"
   ]
  },
  {
   "cell_type": "markdown",
   "id": "d1577c98",
   "metadata": {
    "papermill": {
     "duration": 0.054707,
     "end_time": "2022-02-20T01:53:30.593322",
     "exception": false,
     "start_time": "2022-02-20T01:53:30.538615",
     "status": "completed"
    },
    "tags": []
   },
   "source": [
    "### Checking if everything is on the GPU"
   ]
  },
  {
   "cell_type": "code",
   "execution_count": 18,
   "id": "3a6e4be6",
   "metadata": {
    "execution": {
     "iopub.execute_input": "2022-02-20T01:53:30.707853Z",
     "iopub.status.busy": "2022-02-20T01:53:30.706911Z",
     "iopub.status.idle": "2022-02-20T01:53:30.710439Z",
     "shell.execute_reply": "2022-02-20T01:53:30.711024Z",
     "shell.execute_reply.started": "2022-02-19T12:01:08.558598Z"
    },
    "papermill": {
     "duration": 0.063483,
     "end_time": "2022-02-20T01:53:30.711201",
     "exception": false,
     "start_time": "2022-02-20T01:53:30.647718",
     "status": "completed"
    },
    "tags": []
   },
   "outputs": [
    {
     "data": {
      "text/plain": [
       "(device(type='cuda'), device(type='cuda'))"
      ]
     },
     "execution_count": 18,
     "metadata": {},
     "output_type": "execute_result"
    }
   ],
   "source": [
    "train_loader.device, val_loader.device"
   ]
  },
  {
   "cell_type": "code",
   "execution_count": 19,
   "id": "9a4e743d",
   "metadata": {
    "execution": {
     "iopub.execute_input": "2022-02-20T01:53:30.827117Z",
     "iopub.status.busy": "2022-02-20T01:53:30.826176Z",
     "iopub.status.idle": "2022-02-20T01:53:30.829889Z",
     "shell.execute_reply": "2022-02-20T01:53:30.830697Z",
     "shell.execute_reply.started": "2022-02-19T12:01:08.572311Z"
    },
    "papermill": {
     "duration": 0.064207,
     "end_time": "2022-02-20T01:53:30.830850",
     "exception": false,
     "start_time": "2022-02-20T01:53:30.766643",
     "status": "completed"
    },
    "tags": []
   },
   "outputs": [
    {
     "data": {
      "text/plain": [
       "__main__.My_Kaggle_Model"
      ]
     },
     "execution_count": 19,
     "metadata": {},
     "output_type": "execute_result"
    }
   ],
   "source": [
    "type(model)"
   ]
  },
  {
   "cell_type": "code",
   "execution_count": 20,
   "id": "b6df6b88",
   "metadata": {
    "execution": {
     "iopub.execute_input": "2022-02-20T01:53:30.947321Z",
     "iopub.status.busy": "2022-02-20T01:53:30.946525Z",
     "iopub.status.idle": "2022-02-20T01:53:31.030861Z",
     "shell.execute_reply": "2022-02-20T01:53:31.030199Z",
     "shell.execute_reply.started": "2022-02-19T12:01:08.580786Z"
    },
    "papermill": {
     "duration": 0.144626,
     "end_time": "2022-02-20T01:53:31.031023",
     "exception": false,
     "start_time": "2022-02-20T01:53:30.886397",
     "status": "completed"
    },
    "tags": []
   },
   "outputs": [
    {
     "data": {
      "text/plain": [
       "tensor([[-0.0450, -0.0543,  0.0315,  ..., -0.0190, -0.0150,  0.0005],\n",
       "        [ 0.0494,  0.0416, -0.0041,  ..., -0.0243, -0.0446, -0.0407],\n",
       "        [-0.0487, -0.0179,  0.0028,  ..., -0.0072,  0.0504, -0.0491],\n",
       "        ...,\n",
       "        [-0.0339,  0.0208, -0.0226,  ...,  0.0098,  0.0115, -0.0399],\n",
       "        [ 0.0134,  0.0431, -0.0346,  ..., -0.0427,  0.0519,  0.0390],\n",
       "        [-0.0512,  0.0464,  0.0565,  ..., -0.0246, -0.0021, -0.0568]],\n",
       "       device='cuda:0')"
      ]
     },
     "execution_count": 20,
     "metadata": {},
     "output_type": "execute_result"
    }
   ],
   "source": [
    "model.state_dict()['layers.0.weight']"
   ]
  },
  {
   "cell_type": "markdown",
   "id": "fbc01170",
   "metadata": {
    "papermill": {
     "duration": 0.056001,
     "end_time": "2022-02-20T01:53:31.144417",
     "exception": false,
     "start_time": "2022-02-20T01:53:31.088416",
     "status": "completed"
    },
    "tags": []
   },
   "source": [
    "*observe how the weights are also on the GPU, so nice to see!*"
   ]
  },
  {
   "cell_type": "markdown",
   "id": "90a38264",
   "metadata": {
    "papermill": {
     "duration": 0.055832,
     "end_time": "2022-02-20T01:53:31.256972",
     "exception": false,
     "start_time": "2022-02-20T01:53:31.201140",
     "status": "completed"
    },
    "tags": []
   },
   "source": [
    "# Train!"
   ]
  },
  {
   "cell_type": "code",
   "execution_count": 21,
   "id": "c472cc53",
   "metadata": {
    "execution": {
     "iopub.execute_input": "2022-02-20T01:53:31.375985Z",
     "iopub.status.busy": "2022-02-20T01:53:31.374776Z",
     "iopub.status.idle": "2022-02-20T01:53:31.377400Z",
     "shell.execute_reply": "2022-02-20T01:53:31.378008Z",
     "shell.execute_reply.started": "2022-02-19T12:01:08.667904Z"
    },
    "papermill": {
     "duration": 0.06437,
     "end_time": "2022-02-20T01:53:31.378166",
     "exception": false,
     "start_time": "2022-02-20T01:53:31.313796",
     "status": "completed"
    },
    "tags": []
   },
   "outputs": [],
   "source": [
    "learning_rate = 1e-1"
   ]
  },
  {
   "cell_type": "code",
   "execution_count": 22,
   "id": "d49c316b",
   "metadata": {
    "execution": {
     "iopub.execute_input": "2022-02-20T01:53:31.629917Z",
     "iopub.status.busy": "2022-02-20T01:53:31.628840Z",
     "iopub.status.idle": "2022-02-20T01:53:31.632534Z",
     "shell.execute_reply": "2022-02-20T01:53:31.633164Z",
     "shell.execute_reply.started": "2022-02-19T12:01:08.673832Z"
    },
    "papermill": {
     "duration": 0.19846,
     "end_time": "2022-02-20T01:53:31.633387",
     "exception": false,
     "start_time": "2022-02-20T01:53:31.434927",
     "status": "completed"
    },
    "tags": []
   },
   "outputs": [
    {
     "data": {
      "text/plain": [
       "147"
      ]
     },
     "execution_count": 22,
     "metadata": {},
     "output_type": "execute_result"
    }
   ],
   "source": [
    "gc.collect()"
   ]
  },
  {
   "cell_type": "code",
   "execution_count": 23,
   "id": "b0422d54",
   "metadata": {
    "execution": {
     "iopub.execute_input": "2022-02-20T01:53:31.752829Z",
     "iopub.status.busy": "2022-02-20T01:53:31.751995Z",
     "iopub.status.idle": "2022-02-20T03:10:28.280183Z",
     "shell.execute_reply": "2022-02-20T03:10:28.280739Z",
     "shell.execute_reply.started": "2022-02-19T12:01:08.813233Z"
    },
    "papermill": {
     "duration": 4616.590044,
     "end_time": "2022-02-20T03:10:28.280910",
     "exception": false,
     "start_time": "2022-02-20T01:53:31.690866",
     "status": "completed"
    },
    "tags": []
   },
   "outputs": [
    {
     "name": "stdout",
     "output_type": "stream",
     "text": [
      "batch number --  0\n",
      "batch number --  200\n",
      "batch number --  400\n",
      "batch number --  600\n",
      "batch number --  800\n",
      "batch number --  1000\n",
      "batch number --  1200\n",
      "Epoch [0], train_loss: 0.8441, val_loss: 0.8521\n",
      "batch number --  0\n",
      "batch number --  200\n",
      "batch number --  400\n",
      "batch number --  600\n",
      "batch number --  800\n",
      "batch number --  1000\n",
      "batch number --  1200\n",
      "Epoch [1], train_loss: 0.8361, val_loss: 0.8391\n",
      "batch number --  0\n",
      "batch number --  200\n",
      "batch number --  400\n",
      "batch number --  600\n",
      "batch number --  800\n",
      "batch number --  1000\n",
      "batch number --  1200\n",
      "Epoch [2], train_loss: 0.8349, val_loss: 0.8434\n",
      "batch number --  0\n",
      "batch number --  200\n",
      "batch number --  400\n",
      "batch number --  600\n",
      "batch number --  800\n",
      "batch number --  1000\n",
      "batch number --  1200\n",
      "Epoch [3], train_loss: 0.8346, val_loss: 0.8323\n",
      "batch number --  0\n",
      "batch number --  200\n",
      "batch number --  400\n",
      "batch number --  600\n",
      "batch number --  800\n",
      "batch number --  1000\n",
      "batch number --  1200\n",
      "Epoch [4], train_loss: 0.8343, val_loss: 0.8360\n",
      "batch number --  0\n",
      "batch number --  200\n",
      "batch number --  400\n",
      "batch number --  600\n",
      "batch number --  800\n",
      "batch number --  1000\n",
      "batch number --  1200\n",
      "Epoch [5], train_loss: 0.8336, val_loss: 0.8320\n",
      "batch number --  0\n",
      "batch number --  200\n",
      "batch number --  400\n",
      "batch number --  600\n",
      "batch number --  800\n",
      "batch number --  1000\n",
      "batch number --  1200\n",
      "Epoch [6], train_loss: 0.8338, val_loss: 0.8304\n",
      "batch number --  0\n",
      "batch number --  200\n",
      "batch number --  400\n",
      "batch number --  600\n",
      "batch number --  800\n",
      "batch number --  1000\n",
      "batch number --  1200\n",
      "Epoch [7], train_loss: 0.8334, val_loss: 0.8380\n",
      "batch number --  0\n",
      "batch number --  200\n",
      "batch number --  400\n",
      "batch number --  600\n",
      "batch number --  800\n",
      "batch number --  1000\n",
      "batch number --  1200\n",
      "Epoch [8], train_loss: 0.8329, val_loss: 0.8299\n",
      "batch number --  0\n",
      "batch number --  200\n",
      "batch number --  400\n",
      "batch number --  600\n",
      "batch number --  800\n",
      "batch number --  1000\n",
      "batch number --  1200\n",
      "Epoch [9], train_loss: 0.8324, val_loss: 0.8339\n"
     ]
    }
   ],
   "source": [
    "history = fit(10, learning_rate, model, train_loader, val_loader, opt_func=torch.optim.Adam)"
   ]
  },
  {
   "cell_type": "code",
   "execution_count": 24,
   "id": "59ea4fd5",
   "metadata": {
    "execution": {
     "iopub.execute_input": "2022-02-20T03:10:28.438747Z",
     "iopub.status.busy": "2022-02-20T03:10:28.437960Z",
     "iopub.status.idle": "2022-02-20T03:10:28.441108Z",
     "shell.execute_reply": "2022-02-20T03:10:28.441592Z",
     "shell.execute_reply.started": "2022-02-19T12:22:31.763536Z"
    },
    "papermill": {
     "duration": 0.086256,
     "end_time": "2022-02-20T03:10:28.441761",
     "exception": false,
     "start_time": "2022-02-20T03:10:28.355505",
     "status": "completed"
    },
    "tags": []
   },
   "outputs": [
    {
     "data": {
      "text/plain": [
       "[{'val_loss': 0.8521440029144287, 'train_loss': 0.8441387414932251},\n",
       " {'val_loss': 0.8390878438949585, 'train_loss': 0.8361467719078064},\n",
       " {'val_loss': 0.8434250354766846, 'train_loss': 0.8349288702011108},\n",
       " {'val_loss': 0.8322630524635315, 'train_loss': 0.8345692753791809},\n",
       " {'val_loss': 0.8360334634780884, 'train_loss': 0.8343096971511841},\n",
       " {'val_loss': 0.8320338726043701, 'train_loss': 0.8336008787155151},\n",
       " {'val_loss': 0.8304229378700256, 'train_loss': 0.8337907195091248},\n",
       " {'val_loss': 0.837978184223175, 'train_loss': 0.8333766460418701},\n",
       " {'val_loss': 0.8299148678779602, 'train_loss': 0.832933247089386},\n",
       " {'val_loss': 0.8339259028434753, 'train_loss': 0.8323901891708374}]"
      ]
     },
     "execution_count": 24,
     "metadata": {},
     "output_type": "execute_result"
    }
   ],
   "source": [
    "def plot_losses(history):\n",
    "    train_losses = [x.get('train_loss') for x in history]\n",
    "    val_losses = [x['val_loss'] for x in history]\n",
    "    plt.plot(train_losses, '-bx')\n",
    "    plt.plot(val_losses, '-rx')\n",
    "    plt.xlabel('epoch')\n",
    "    plt.ylabel('loss')\n",
    "    plt.legend(['Training', 'Validation'])\n",
    "    plt.title('Loss vs. No. of epochs');\n",
    "history"
   ]
  },
  {
   "cell_type": "code",
   "execution_count": 25,
   "id": "f543a213",
   "metadata": {
    "execution": {
     "iopub.execute_input": "2022-02-20T03:10:28.593673Z",
     "iopub.status.busy": "2022-02-20T03:10:28.592670Z",
     "iopub.status.idle": "2022-02-20T03:10:28.594930Z",
     "shell.execute_reply": "2022-02-20T03:10:28.595542Z",
     "shell.execute_reply.started": "2022-02-19T12:22:23.898062Z"
    },
    "papermill": {
     "duration": 0.080325,
     "end_time": "2022-02-20T03:10:28.595733",
     "exception": false,
     "start_time": "2022-02-20T03:10:28.515408",
     "status": "completed"
    },
    "tags": []
   },
   "outputs": [],
   "source": [
    "# !/opt/bin/nvidia-smi\n",
    "# optional function to check if you have a GPU or not"
   ]
  },
  {
   "cell_type": "code",
   "execution_count": 26,
   "id": "b02a89ec",
   "metadata": {
    "execution": {
     "iopub.execute_input": "2022-02-20T03:10:28.747368Z",
     "iopub.status.busy": "2022-02-20T03:10:28.746328Z",
     "iopub.status.idle": "2022-02-20T04:27:34.979814Z",
     "shell.execute_reply": "2022-02-20T04:27:34.980779Z",
     "shell.execute_reply.started": "2022-02-19T12:22:23.904592Z"
    },
    "papermill": {
     "duration": 4626.311545,
     "end_time": "2022-02-20T04:27:34.981069",
     "exception": false,
     "start_time": "2022-02-20T03:10:28.669524",
     "status": "completed"
    },
    "tags": []
   },
   "outputs": [
    {
     "name": "stdout",
     "output_type": "stream",
     "text": [
      "batch number --  0\n",
      "batch number --  200\n",
      "batch number --  400\n",
      "batch number --  600\n",
      "batch number --  800\n",
      "batch number --  1000\n",
      "batch number --  1200\n",
      "Epoch [0], train_loss: 0.8284, val_loss: 0.8256\n",
      "batch number --  0\n",
      "batch number --  200\n",
      "batch number --  400\n",
      "batch number --  600\n",
      "batch number --  800\n",
      "batch number --  1000\n",
      "batch number --  1200\n",
      "Epoch [1], train_loss: 0.8279, val_loss: 0.8256\n",
      "batch number --  0\n",
      "batch number --  200\n",
      "batch number --  400\n",
      "batch number --  600\n",
      "batch number --  800\n",
      "batch number --  1000\n",
      "batch number --  1200\n",
      "Epoch [2], train_loss: 0.8277, val_loss: 0.8254\n",
      "batch number --  0\n",
      "batch number --  200\n",
      "batch number --  400\n",
      "batch number --  600\n",
      "batch number --  800\n",
      "batch number --  1000\n",
      "batch number --  1200\n",
      "Epoch [3], train_loss: 0.8275, val_loss: 0.8252\n",
      "batch number --  0\n",
      "batch number --  200\n",
      "batch number --  400\n",
      "batch number --  600\n",
      "batch number --  800\n",
      "batch number --  1000\n",
      "batch number --  1200\n",
      "Epoch [4], train_loss: 0.8274, val_loss: 0.8250\n",
      "batch number --  0\n",
      "batch number --  200\n",
      "batch number --  400\n",
      "batch number --  600\n",
      "batch number --  800\n",
      "batch number --  1000\n",
      "batch number --  1200\n",
      "Epoch [5], train_loss: 0.8274, val_loss: 0.8250\n",
      "batch number --  0\n",
      "batch number --  200\n",
      "batch number --  400\n",
      "batch number --  600\n",
      "batch number --  800\n",
      "batch number --  1000\n",
      "batch number --  1200\n",
      "Epoch [6], train_loss: 0.8271, val_loss: 0.8248\n",
      "batch number --  0\n",
      "batch number --  200\n",
      "batch number --  400\n",
      "batch number --  600\n",
      "batch number --  800\n",
      "batch number --  1000\n",
      "batch number --  1200\n",
      "Epoch [7], train_loss: 0.8271, val_loss: 0.8246\n",
      "batch number --  0\n",
      "batch number --  200\n",
      "batch number --  400\n",
      "batch number --  600\n",
      "batch number --  800\n",
      "batch number --  1000\n",
      "batch number --  1200\n",
      "Epoch [8], train_loss: 0.8270, val_loss: 0.8247\n",
      "batch number --  0\n",
      "batch number --  200\n",
      "batch number --  400\n",
      "batch number --  600\n",
      "batch number --  800\n",
      "batch number --  1000\n",
      "batch number --  1200\n",
      "Epoch [9], train_loss: 0.8267, val_loss: 0.8246\n"
     ]
    }
   ],
   "source": [
    "# train for more with lower learning rate\n",
    "history2 = fit(10, 5e-3, model, train_loader, val_loader, opt_func=torch.optim.Adam)"
   ]
  },
  {
   "cell_type": "code",
   "execution_count": 27,
   "id": "a2860397",
   "metadata": {
    "execution": {
     "iopub.execute_input": "2022-02-20T04:27:35.398738Z",
     "iopub.status.busy": "2022-02-20T04:27:35.397787Z",
     "iopub.status.idle": "2022-02-20T04:27:35.748166Z",
     "shell.execute_reply": "2022-02-20T04:27:35.747673Z",
     "shell.execute_reply.started": "2022-02-19T12:22:23.904592Z"
    },
    "papermill": {
     "duration": 0.548439,
     "end_time": "2022-02-20T04:27:35.748304",
     "exception": false,
     "start_time": "2022-02-20T04:27:35.199865",
     "status": "completed"
    },
    "tags": []
   },
   "outputs": [
    {
     "data": {
      "image/png": "[encoded data removed]",
      "text/plain": [
       "<Figure size 432x288 with 1 Axes>"
      ]
     },
     "metadata": {
      "needs_background": "light"
     },
     "output_type": "display_data"
    }
   ],
   "source": [
    "plot_losses(history2)"
   ]
  },
  {
   "cell_type": "markdown",
   "id": "54ea5c63",
   "metadata": {
    "papermill": {
     "duration": 0.10067,
     "end_time": "2022-02-20T04:27:35.949814",
     "exception": false,
     "start_time": "2022-02-20T04:27:35.849144",
     "status": "completed"
    },
    "tags": []
   },
   "source": [
    "**it is a good practice to check this curve and determine if our model is overfitting or not**"
   ]
  },
  {
   "cell_type": "code",
   "execution_count": 28,
   "id": "65b8d793",
   "metadata": {
    "execution": {
     "iopub.execute_input": "2022-02-20T04:27:36.155438Z",
     "iopub.status.busy": "2022-02-20T04:27:36.154430Z",
     "iopub.status.idle": "2022-02-20T05:42:49.965626Z",
     "shell.execute_reply": "2022-02-20T05:42:49.966273Z",
     "shell.execute_reply.started": "2022-02-19T12:22:23.904592Z"
    },
    "papermill": {
     "duration": 4513.915228,
     "end_time": "2022-02-20T05:42:49.966489",
     "exception": false,
     "start_time": "2022-02-20T04:27:36.051261",
     "status": "completed"
    },
    "tags": []
   },
   "outputs": [
    {
     "name": "stdout",
     "output_type": "stream",
     "text": [
      "batch number --  0\n",
      "batch number --  200\n",
      "batch number --  400\n",
      "batch number --  600\n",
      "batch number --  800\n",
      "batch number --  1000\n",
      "batch number --  1200\n",
      "Epoch [0], train_loss: 0.8264, val_loss: 0.8239\n",
      "batch number --  0\n",
      "batch number --  200\n",
      "batch number --  400\n",
      "batch number --  600\n",
      "batch number --  800\n",
      "batch number --  1000\n",
      "batch number --  1200\n",
      "Epoch [1], train_loss: 0.8264, val_loss: 0.8238\n",
      "batch number --  0\n",
      "batch number --  200\n",
      "batch number --  400\n",
      "batch number --  600\n",
      "batch number --  800\n",
      "batch number --  1000\n",
      "batch number --  1200\n",
      "Epoch [2], train_loss: 0.8261, val_loss: 0.8238\n",
      "batch number --  0\n",
      "batch number --  200\n",
      "batch number --  400\n",
      "batch number --  600\n",
      "batch number --  800\n",
      "batch number --  1000\n",
      "batch number --  1200\n",
      "Epoch [3], train_loss: 0.8263, val_loss: 0.8238\n",
      "batch number --  0\n",
      "batch number --  200\n",
      "batch number --  400\n",
      "batch number --  600\n",
      "batch number --  800\n",
      "batch number --  1000\n",
      "batch number --  1200\n",
      "Epoch [4], train_loss: 0.8263, val_loss: 0.8238\n",
      "batch number --  0\n",
      "batch number --  200\n",
      "batch number --  400\n",
      "batch number --  600\n",
      "batch number --  800\n",
      "batch number --  1000\n",
      "batch number --  1200\n",
      "Epoch [5], train_loss: 0.8263, val_loss: 0.8238\n",
      "batch number --  0\n",
      "batch number --  200\n",
      "batch number --  400\n",
      "batch number --  600\n",
      "batch number --  800\n",
      "batch number --  1000\n",
      "batch number --  1200\n",
      "Epoch [6], train_loss: 0.8263, val_loss: 0.8238\n",
      "batch number --  0\n",
      "batch number --  200\n",
      "batch number --  400\n",
      "batch number --  600\n",
      "batch number --  800\n",
      "batch number --  1000\n",
      "batch number --  1200\n",
      "Epoch [7], train_loss: 0.8264, val_loss: 0.8238\n",
      "batch number --  0\n",
      "batch number --  200\n",
      "batch number --  400\n",
      "batch number --  600\n",
      "batch number --  800\n",
      "batch number --  1000\n",
      "batch number --  1200\n",
      "Epoch [8], train_loss: 0.8261, val_loss: 0.8238\n",
      "batch number --  0\n",
      "batch number --  200\n",
      "batch number --  400\n",
      "batch number --  600\n",
      "batch number --  800\n",
      "batch number --  1000\n",
      "batch number --  1200\n",
      "Epoch [9], train_loss: 0.8262, val_loss: 0.8238\n"
     ]
    }
   ],
   "source": [
    "# train for more with lower learning rate\n",
    "history3 = fit(10, 5e-5, model, train_loader, val_loader, opt_func=torch.optim.Adam)"
   ]
  },
  {
   "cell_type": "code",
   "execution_count": 29,
   "id": "8660b971",
   "metadata": {
    "execution": {
     "iopub.execute_input": "2022-02-20T05:42:50.340990Z",
     "iopub.status.busy": "2022-02-20T05:42:50.334445Z",
     "iopub.status.idle": "2022-02-20T05:42:50.600059Z",
     "shell.execute_reply": "2022-02-20T05:42:50.601011Z"
    },
    "papermill": {
     "duration": 0.493718,
     "end_time": "2022-02-20T05:42:50.601184",
     "exception": false,
     "start_time": "2022-02-20T05:42:50.107466",
     "status": "completed"
    },
    "tags": []
   },
   "outputs": [
    {
     "data": {
      "image/png": "[encoded data removed]",
      "text/plain": [
       "<Figure size 432x288 with 1 Axes>"
      ]
     },
     "metadata": {
      "needs_background": "light"
     },
     "output_type": "display_data"
    }
   ],
   "source": [
    "plot_losses(history3)"
   ]
  },
  {
   "cell_type": "markdown",
   "id": "05e75217",
   "metadata": {
    "papermill": {
     "duration": 0.122505,
     "end_time": "2022-02-20T05:42:50.867064",
     "exception": false,
     "start_time": "2022-02-20T05:42:50.744559",
     "status": "completed"
    },
    "tags": []
   },
   "source": [
    "### Record results"
   ]
  },
  {
   "cell_type": "code",
   "execution_count": 30,
   "id": "8d1e7194",
   "metadata": {
    "execution": {
     "iopub.execute_input": "2022-02-20T05:42:51.116742Z",
     "iopub.status.busy": "2022-02-20T05:42:51.116116Z",
     "iopub.status.idle": "2022-02-20T05:42:51.121665Z",
     "shell.execute_reply": "2022-02-20T05:42:51.122124Z",
     "shell.execute_reply.started": "2022-02-19T12:22:39.249114Z"
    },
    "papermill": {
     "duration": 0.134645,
     "end_time": "2022-02-20T05:42:51.122262",
     "exception": false,
     "start_time": "2022-02-20T05:42:50.987617",
     "status": "completed"
    },
    "tags": []
   },
   "outputs": [
    {
     "data": {
      "text/plain": [
       "{'val_loss': 0.8237826228141785, 'train_loss': 0.8261511921882629}"
      ]
     },
     "execution_count": 30,
     "metadata": {},
     "output_type": "execute_result"
    }
   ],
   "source": [
    "history3[-1]"
   ]
  },
  {
   "cell_type": "code",
   "execution_count": 31,
   "id": "0e62f46b",
   "metadata": {
    "execution": {
     "iopub.execute_input": "2022-02-20T05:42:51.370649Z",
     "iopub.status.busy": "2022-02-20T05:42:51.369677Z",
     "iopub.status.idle": "2022-02-20T05:42:51.372700Z",
     "shell.execute_reply": "2022-02-20T05:42:51.372180Z",
     "shell.execute_reply.started": "2022-02-19T12:22:40.534755Z"
    },
    "papermill": {
     "duration": 0.128783,
     "end_time": "2022-02-20T05:42:51.372866",
     "exception": false,
     "start_time": "2022-02-20T05:42:51.244083",
     "status": "completed"
    },
    "tags": []
   },
   "outputs": [],
   "source": [
    "# evaluate(model, train_loader), evaluate(model, val_loader)"
   ]
  },
  {
   "cell_type": "markdown",
   "id": "ad3fa692",
   "metadata": {
    "papermill": {
     "duration": 0.122325,
     "end_time": "2022-02-20T05:42:51.616660",
     "exception": false,
     "start_time": "2022-02-20T05:42:51.494335",
     "status": "completed"
    },
    "tags": []
   },
   "source": [
    "### important to save the model!"
   ]
  },
  {
   "cell_type": "code",
   "execution_count": 32,
   "id": "df483f10",
   "metadata": {
    "execution": {
     "iopub.execute_input": "2022-02-20T05:42:51.882922Z",
     "iopub.status.busy": "2022-02-20T05:42:51.882052Z",
     "iopub.status.idle": "2022-02-20T05:42:51.902290Z",
     "shell.execute_reply": "2022-02-20T05:42:51.901772Z",
     "shell.execute_reply.started": "2022-02-19T12:22:58.023167Z"
    },
    "papermill": {
     "duration": 0.154723,
     "end_time": "2022-02-20T05:42:51.902438",
     "exception": false,
     "start_time": "2022-02-20T05:42:51.747715",
     "status": "completed"
    },
    "tags": []
   },
   "outputs": [],
   "source": [
    "torch.save(model.state_dict(), 'my_trained_model.pth')"
   ]
  },
  {
   "cell_type": "markdown",
   "id": "3b7d6e43",
   "metadata": {
    "papermill": {
     "duration": 0.123517,
     "end_time": "2022-02-20T05:42:52.155471",
     "exception": false,
     "start_time": "2022-02-20T05:42:52.031954",
     "status": "completed"
    },
    "tags": []
   },
   "source": [
    "# time to make predictions!"
   ]
  },
  {
   "cell_type": "code",
   "execution_count": 33,
   "id": "913ebd87",
   "metadata": {
    "execution": {
     "iopub.execute_input": "2022-02-20T05:42:52.423078Z",
     "iopub.status.busy": "2022-02-20T05:42:52.422146Z",
     "iopub.status.idle": "2022-02-20T05:42:52.425095Z",
     "shell.execute_reply": "2022-02-20T05:42:52.424494Z",
     "shell.execute_reply.started": "2022-02-19T12:23:03.752351Z"
    },
    "papermill": {
     "duration": 0.142355,
     "end_time": "2022-02-20T05:42:52.425218",
     "exception": false,
     "start_time": "2022-02-20T05:42:52.282863",
     "status": "completed"
    },
    "tags": []
   },
   "outputs": [],
   "source": [
    "# val_ds[1][0].shape, val_ds[1][1].shape"
   ]
  },
  {
   "cell_type": "markdown",
   "id": "5572d482",
   "metadata": {
    "papermill": {
     "duration": 0.1253,
     "end_time": "2022-02-20T05:42:52.674544",
     "exception": false,
     "start_time": "2022-02-20T05:42:52.549244",
     "status": "completed"
    },
    "tags": []
   },
   "source": [
    "### Simple function to predict"
   ]
  },
  {
   "cell_type": "code",
   "execution_count": 34,
   "id": "fb1c7dca",
   "metadata": {
    "execution": {
     "iopub.execute_input": "2022-02-20T05:42:52.927062Z",
     "iopub.status.busy": "2022-02-20T05:42:52.926087Z",
     "iopub.status.idle": "2022-02-20T05:42:52.928512Z",
     "shell.execute_reply": "2022-02-20T05:42:52.928991Z",
     "shell.execute_reply.started": "2022-02-19T12:23:04.705785Z"
    },
    "papermill": {
     "duration": 0.130169,
     "end_time": "2022-02-20T05:42:52.929155",
     "exception": false,
     "start_time": "2022-02-20T05:42:52.798986",
     "status": "completed"
    },
    "tags": []
   },
   "outputs": [],
   "source": [
    "torch.cuda.empty_cache() # just to clear some GPU cache memory"
   ]
  },
  {
   "cell_type": "markdown",
   "id": "bc465fc1",
   "metadata": {
    "papermill": {
     "duration": 0.119857,
     "end_time": "2022-02-20T05:42:53.169178",
     "exception": false,
     "start_time": "2022-02-20T05:42:53.049321",
     "status": "completed"
    },
    "tags": []
   },
   "source": [
    "#### lets see if it works on the train loader (it should!)"
   ]
  },
  {
   "cell_type": "code",
   "execution_count": 35,
   "id": "0a71e39c",
   "metadata": {
    "execution": {
     "iopub.execute_input": "2022-02-20T05:42:53.423311Z",
     "iopub.status.busy": "2022-02-20T05:42:53.416985Z",
     "iopub.status.idle": "2022-02-20T05:42:53.461252Z",
     "shell.execute_reply": "2022-02-20T05:42:53.460418Z",
     "shell.execute_reply.started": "2022-02-19T12:23:06.875979Z"
    },
    "papermill": {
     "duration": 0.171171,
     "end_time": "2022-02-20T05:42:53.461412",
     "exception": false,
     "start_time": "2022-02-20T05:42:53.290241",
     "status": "completed"
    },
    "tags": []
   },
   "outputs": [
    {
     "name": "stdout",
     "output_type": "stream",
     "text": [
      "data.shape torch.Size([2000, 302])\n",
      "data.device cuda:0\n",
      "preds.shape torch.Size([2000, 1])\n"
     ]
    }
   ],
   "source": [
    "for batch in train_loader:\n",
    "    model.eval() # not strictly necessary to put it in eval mode, because we took adequate care earlier\n",
    "    data, target = batch\n",
    "    print('data.shape', data.shape)\n",
    "    print('data.device', data.device)\n",
    "    preds = model(data)\n",
    "    print('preds.shape', preds.shape)\n",
    "    break # this is just for checking, so I break after one round"
   ]
  },
  {
   "cell_type": "markdown",
   "id": "b154d19b",
   "metadata": {
    "papermill": {
     "duration": 0.126695,
     "end_time": "2022-02-20T05:42:53.708459",
     "exception": false,
     "start_time": "2022-02-20T05:42:53.581764",
     "status": "completed"
    },
    "tags": []
   },
   "source": [
    "#### and on the valid loader"
   ]
  },
  {
   "cell_type": "code",
   "execution_count": 36,
   "id": "8a8f8295",
   "metadata": {
    "execution": {
     "iopub.execute_input": "2022-02-20T05:42:53.975804Z",
     "iopub.status.busy": "2022-02-20T05:42:53.974761Z",
     "iopub.status.idle": "2022-02-20T05:42:54.022111Z",
     "shell.execute_reply": "2022-02-20T05:42:54.022640Z",
     "shell.execute_reply.started": "2022-02-19T12:23:09.236928Z"
    },
    "papermill": {
     "duration": 0.183668,
     "end_time": "2022-02-20T05:42:54.022804",
     "exception": false,
     "start_time": "2022-02-20T05:42:53.839136",
     "status": "completed"
    },
    "tags": []
   },
   "outputs": [
    {
     "name": "stdout",
     "output_type": "stream",
     "text": [
      "data.shape torch.Size([2000, 302])\n",
      "data.device cuda:0\n",
      "preds.shape torch.Size([2000, 1])\n"
     ]
    }
   ],
   "source": [
    "for batch in val_loader:\n",
    "    model.eval()\n",
    "    data, target = batch\n",
    "    print('data.shape', data.shape)\n",
    "    print('data.device', data.device)\n",
    "    preds = model(data)\n",
    "    print('preds.shape', preds.shape)\n",
    "    break"
   ]
  },
  {
   "cell_type": "code",
   "execution_count": 37,
   "id": "534a5223",
   "metadata": {
    "execution": {
     "iopub.execute_input": "2022-02-20T05:42:54.279215Z",
     "iopub.status.busy": "2022-02-20T05:42:54.278084Z",
     "iopub.status.idle": "2022-02-20T05:42:54.286811Z",
     "shell.execute_reply": "2022-02-20T05:42:54.286116Z",
     "shell.execute_reply.started": "2022-02-19T12:23:09.441307Z"
    },
    "papermill": {
     "duration": 0.141814,
     "end_time": "2022-02-20T05:42:54.286974",
     "exception": false,
     "start_time": "2022-02-20T05:42:54.145160",
     "status": "completed"
    },
    "tags": []
   },
   "outputs": [
    {
     "data": {
      "text/plain": [
       "(tensor([[-0.0146],\n",
       "         [-0.0839],\n",
       "         [-0.1641],\n",
       "         [ 0.0394],\n",
       "         [ 0.0972]], device='cuda:0', grad_fn=<SliceBackward>),\n",
       " tensor([[-0.8711],\n",
       "         [ 0.2462],\n",
       "         [-0.2064],\n",
       "         [-1.5498],\n",
       "         [ 0.4731]], device='cuda:0'))"
      ]
     },
     "execution_count": 37,
     "metadata": {},
     "output_type": "execute_result"
    }
   ],
   "source": [
    "preds[:5], target[:5]"
   ]
  },
  {
   "cell_type": "code",
   "execution_count": 38,
   "id": "2b14bff9",
   "metadata": {
    "execution": {
     "iopub.execute_input": "2022-02-20T05:42:54.672556Z",
     "iopub.status.busy": "2022-02-20T05:42:54.671718Z",
     "iopub.status.idle": "2022-02-20T05:42:54.675271Z",
     "shell.execute_reply": "2022-02-20T05:42:54.675867Z",
     "shell.execute_reply.started": "2022-02-19T12:23:09.630912Z"
    },
    "papermill": {
     "duration": 0.25996,
     "end_time": "2022-02-20T05:42:54.676093",
     "exception": false,
     "start_time": "2022-02-20T05:42:54.416133",
     "status": "completed"
    },
    "tags": []
   },
   "outputs": [
    {
     "data": {
      "text/plain": [
       "3257"
      ]
     },
     "execution_count": 38,
     "metadata": {},
     "output_type": "execute_result"
    }
   ],
   "source": [
    "gc.collect()"
   ]
  },
  {
   "cell_type": "markdown",
   "id": "e5547141",
   "metadata": {
    "papermill": {
     "duration": 0.128204,
     "end_time": "2022-02-20T05:42:54.934459",
     "exception": false,
     "start_time": "2022-02-20T05:42:54.806255",
     "status": "completed"
    },
    "tags": []
   },
   "source": [
    "# Submission Time!"
   ]
  },
  {
   "cell_type": "markdown",
   "id": "c63591bf",
   "metadata": {
    "papermill": {
     "duration": 0.136319,
     "end_time": "2022-02-20T05:42:55.200663",
     "exception": false,
     "start_time": "2022-02-20T05:42:55.064344",
     "status": "completed"
    },
    "tags": []
   },
   "source": [
    "### simple function to predict on the test dataframe"
   ]
  },
  {
   "cell_type": "code",
   "execution_count": 39,
   "id": "37449195",
   "metadata": {
    "execution": {
     "iopub.execute_input": "2022-02-20T05:42:55.465284Z",
     "iopub.status.busy": "2022-02-20T05:42:55.464298Z",
     "iopub.status.idle": "2022-02-20T05:42:55.466459Z",
     "shell.execute_reply": "2022-02-20T05:42:55.467018Z",
     "shell.execute_reply.started": "2022-02-19T12:23:11.550959Z"
    },
    "papermill": {
     "duration": 0.134798,
     "end_time": "2022-02-20T05:42:55.467193",
     "exception": false,
     "start_time": "2022-02-20T05:42:55.332395",
     "status": "completed"
    },
    "tags": []
   },
   "outputs": [],
   "source": [
    "cols_order = ['investment_id' , 'time_id'] + features"
   ]
  },
  {
   "cell_type": "code",
   "execution_count": 40,
   "id": "13e39a90",
   "metadata": {
    "execution": {
     "iopub.execute_input": "2022-02-20T05:42:55.726301Z",
     "iopub.status.busy": "2022-02-20T05:42:55.723622Z",
     "iopub.status.idle": "2022-02-20T05:42:55.729212Z",
     "shell.execute_reply": "2022-02-20T05:42:55.728681Z",
     "shell.execute_reply.started": "2022-02-19T12:29:44.820073Z"
    },
    "papermill": {
     "duration": 0.137011,
     "end_time": "2022-02-20T05:42:55.729331",
     "exception": false,
     "start_time": "2022-02-20T05:42:55.592320",
     "status": "completed"
    },
    "tags": []
   },
   "outputs": [],
   "source": [
    "def predict_for_test_data(test_data):\n",
    "    test_ds = TensorDataset(torch.tensor(test_data.values, dtype=torch.float32))\n",
    "    submission_try = []\n",
    "    \n",
    "    for x in test_ds:\n",
    "        model.eval()\n",
    "        input_x = x[0].unsqueeze(0).cuda()\n",
    "        pred = model(input_x)\n",
    "        submission_try.append(pred)\n",
    "        print(\"Prediction:\", pred)\n",
    "        \n",
    "    submission_values = [float(i.detach()) for i in submission_try]\n",
    "    return submission_values"
   ]
  },
  {
   "cell_type": "code",
   "execution_count": 41,
   "id": "f0848178",
   "metadata": {
    "execution": {
     "iopub.execute_input": "2022-02-20T05:42:56.033224Z",
     "iopub.status.busy": "2022-02-20T05:42:56.030069Z",
     "iopub.status.idle": "2022-02-20T05:42:56.035687Z",
     "shell.execute_reply": "2022-02-20T05:42:56.034587Z",
     "shell.execute_reply.started": "2022-02-19T12:24:25.576903Z"
    },
    "papermill": {
     "duration": 0.186357,
     "end_time": "2022-02-20T05:42:56.035896",
     "exception": false,
     "start_time": "2022-02-20T05:42:55.849539",
     "status": "completed"
    },
    "tags": []
   },
   "outputs": [],
   "source": [
    "# test_df"
   ]
  },
  {
   "cell_type": "code",
   "execution_count": 42,
   "id": "f297bb95",
   "metadata": {
    "execution": {
     "iopub.execute_input": "2022-02-20T05:42:56.493971Z",
     "iopub.status.busy": "2022-02-20T05:42:56.492937Z",
     "iopub.status.idle": "2022-02-20T05:42:56.495801Z",
     "shell.execute_reply": "2022-02-20T05:42:56.496702Z",
     "shell.execute_reply.started": "2022-02-19T12:30:01.179193Z"
    },
    "papermill": {
     "duration": 0.231031,
     "end_time": "2022-02-20T05:42:56.497005",
     "exception": false,
     "start_time": "2022-02-20T05:42:56.265974",
     "status": "completed"
    },
    "tags": []
   },
   "outputs": [],
   "source": [
    "# predict_for_test_data(test_df)"
   ]
  },
  {
   "cell_type": "markdown",
   "id": "2eb7f85d",
   "metadata": {
    "papermill": {
     "duration": 0.124068,
     "end_time": "2022-02-20T05:42:56.781432",
     "exception": false,
     "start_time": "2022-02-20T05:42:56.657364",
     "status": "completed"
    },
    "tags": []
   },
   "source": [
    "### submit off!\n",
    "Credits to @Melanie7744 for informing about the submission API. Here is the link to her work https://www.kaggle.com/melanie7744/understanding-the-submission-api-for-newbies"
   ]
  },
  {
   "cell_type": "code",
   "execution_count": 43,
   "id": "b11ec1d3",
   "metadata": {
    "execution": {
     "iopub.execute_input": "2022-02-20T05:42:57.038127Z",
     "iopub.status.busy": "2022-02-20T05:42:57.037444Z",
     "iopub.status.idle": "2022-02-20T05:42:57.373753Z",
     "shell.execute_reply": "2022-02-20T05:42:57.374190Z",
     "shell.execute_reply.started": "2022-02-19T12:23:13.675887Z"
    },
    "papermill": {
     "duration": 0.46799,
     "end_time": "2022-02-20T05:42:57.374340",
     "exception": false,
     "start_time": "2022-02-20T05:42:56.906350",
     "status": "completed"
    },
    "tags": []
   },
   "outputs": [
    {
     "name": "stdout",
     "output_type": "stream",
     "text": [
      "This version of the API is not optimized and should not be used to estimate the runtime of your code on the hidden test set.\n",
      "test_df as loaded by the API\n"
     ]
    },
    {
     "data": {
      "text/html": [
       "<div>\n",
       "<style scoped>\n",
       "    .dataframe tbody tr th:only-of-type {\n",
       "        vertical-align: middle;\n",
       "    }\n",
       "\n",
       "    .dataframe tbody tr th {\n",
       "        vertical-align: top;\n",
       "    }\n",
       "\n",
       "    .dataframe thead th {\n",
       "        text-align: right;\n",
       "    }\n",
       "</style>\n",
       "<table border=\"1\" class=\"dataframe\">\n",
       "  <thead>\n",
       "    <tr style=\"text-align: right;\">\n",
       "      <th></th>\n",
       "      <th>row_id</th>\n",
       "      <th>investment_id</th>\n",
       "      <th>f_0</th>\n",
       "      <th>f_1</th>\n",
       "      <th>f_2</th>\n",
       "      <th>f_3</th>\n",
       "      <th>f_4</th>\n",
       "      <th>f_5</th>\n",
       "      <th>f_6</th>\n",
       "      <th>f_7</th>\n",
       "      <th>...</th>\n",
       "      <th>f_290</th>\n",
       "      <th>f_291</th>\n",
       "      <th>f_292</th>\n",
       "      <th>f_293</th>\n",
       "      <th>f_294</th>\n",
       "      <th>f_295</th>\n",
       "      <th>f_296</th>\n",
       "      <th>f_297</th>\n",
       "      <th>f_298</th>\n",
       "      <th>f_299</th>\n",
       "    </tr>\n",
       "  </thead>\n",
       "  <tbody>\n",
       "    <tr>\n",
       "      <th>0</th>\n",
       "      <td>1220_1</td>\n",
       "      <td>1</td>\n",
       "      <td>0.874944</td>\n",
       "      <td>0.457875</td>\n",
       "      <td>0.962572</td>\n",
       "      <td>0.372061</td>\n",
       "      <td>0.004509</td>\n",
       "      <td>0.971304</td>\n",
       "      <td>0.097477</td>\n",
       "      <td>0.246080</td>\n",
       "      <td>...</td>\n",
       "      <td>0.514031</td>\n",
       "      <td>0.828523</td>\n",
       "      <td>0.437697</td>\n",
       "      <td>0.810764</td>\n",
       "      <td>0.693963</td>\n",
       "      <td>0.186403</td>\n",
       "      <td>0.569144</td>\n",
       "      <td>0.120386</td>\n",
       "      <td>0.419603</td>\n",
       "      <td>0.936966</td>\n",
       "    </tr>\n",
       "    <tr>\n",
       "      <th>1</th>\n",
       "      <td>1220_2</td>\n",
       "      <td>2</td>\n",
       "      <td>0.554862</td>\n",
       "      <td>0.445478</td>\n",
       "      <td>0.714034</td>\n",
       "      <td>0.891988</td>\n",
       "      <td>0.703331</td>\n",
       "      <td>0.264478</td>\n",
       "      <td>0.600636</td>\n",
       "      <td>0.697096</td>\n",
       "      <td>...</td>\n",
       "      <td>0.620919</td>\n",
       "      <td>0.301540</td>\n",
       "      <td>0.687464</td>\n",
       "      <td>0.400168</td>\n",
       "      <td>0.908198</td>\n",
       "      <td>0.272901</td>\n",
       "      <td>0.222430</td>\n",
       "      <td>0.748324</td>\n",
       "      <td>0.858802</td>\n",
       "      <td>0.362829</td>\n",
       "    </tr>\n",
       "  </tbody>\n",
       "</table>\n",
       "<p>2 rows × 302 columns</p>\n",
       "</div>"
      ],
      "text/plain": [
       "   row_id  investment_id       f_0       f_1       f_2       f_3       f_4  \\\n",
       "0  1220_1              1  0.874944  0.457875  0.962572  0.372061  0.004509   \n",
       "1  1220_2              2  0.554862  0.445478  0.714034  0.891988  0.703331   \n",
       "\n",
       "        f_5       f_6       f_7  ...     f_290     f_291     f_292     f_293  \\\n",
       "0  0.971304  0.097477  0.246080  ...  0.514031  0.828523  0.437697  0.810764   \n",
       "1  0.264478  0.600636  0.697096  ...  0.620919  0.301540  0.687464  0.400168   \n",
       "\n",
       "      f_294     f_295     f_296     f_297     f_298     f_299  \n",
       "0  0.693963  0.186403  0.569144  0.120386  0.419603  0.936966  \n",
       "1  0.908198  0.272901  0.222430  0.748324  0.858802  0.362829  \n",
       "\n",
       "[2 rows x 302 columns]"
      ]
     },
     "metadata": {},
     "output_type": "display_data"
    },
    {
     "data": {
      "text/plain": [
       "(2, 302)"
      ]
     },
     "metadata": {},
     "output_type": "display_data"
    },
    {
     "name": "stdout",
     "output_type": "stream",
     "text": [
      "test_df after selecting/creating the features the model was trained with\n"
     ]
    },
    {
     "data": {
      "text/html": [
       "<div>\n",
       "<style scoped>\n",
       "    .dataframe tbody tr th:only-of-type {\n",
       "        vertical-align: middle;\n",
       "    }\n",
       "\n",
       "    .dataframe tbody tr th {\n",
       "        vertical-align: top;\n",
       "    }\n",
       "\n",
       "    .dataframe thead th {\n",
       "        text-align: right;\n",
       "    }\n",
       "</style>\n",
       "<table border=\"1\" class=\"dataframe\">\n",
       "  <thead>\n",
       "    <tr style=\"text-align: right;\">\n",
       "      <th></th>\n",
       "      <th>investment_id</th>\n",
       "      <th>time_id</th>\n",
       "      <th>f_0</th>\n",
       "      <th>f_1</th>\n",
       "      <th>f_2</th>\n",
       "      <th>f_3</th>\n",
       "      <th>f_4</th>\n",
       "      <th>f_5</th>\n",
       "      <th>f_6</th>\n",
       "      <th>f_7</th>\n",
       "      <th>...</th>\n",
       "      <th>f_290</th>\n",
       "      <th>f_291</th>\n",
       "      <th>f_292</th>\n",
       "      <th>f_293</th>\n",
       "      <th>f_294</th>\n",
       "      <th>f_295</th>\n",
       "      <th>f_296</th>\n",
       "      <th>f_297</th>\n",
       "      <th>f_298</th>\n",
       "      <th>f_299</th>\n",
       "    </tr>\n",
       "  </thead>\n",
       "  <tbody>\n",
       "    <tr>\n",
       "      <th>0</th>\n",
       "      <td>1</td>\n",
       "      <td>1220</td>\n",
       "      <td>0.874944</td>\n",
       "      <td>0.457875</td>\n",
       "      <td>0.962572</td>\n",
       "      <td>0.372061</td>\n",
       "      <td>0.004509</td>\n",
       "      <td>0.971304</td>\n",
       "      <td>0.097477</td>\n",
       "      <td>0.246080</td>\n",
       "      <td>...</td>\n",
       "      <td>0.514031</td>\n",
       "      <td>0.828523</td>\n",
       "      <td>0.437697</td>\n",
       "      <td>0.810764</td>\n",
       "      <td>0.693963</td>\n",
       "      <td>0.186403</td>\n",
       "      <td>0.569144</td>\n",
       "      <td>0.120386</td>\n",
       "      <td>0.419603</td>\n",
       "      <td>0.936966</td>\n",
       "    </tr>\n",
       "    <tr>\n",
       "      <th>1</th>\n",
       "      <td>2</td>\n",
       "      <td>1220</td>\n",
       "      <td>0.554862</td>\n",
       "      <td>0.445478</td>\n",
       "      <td>0.714034</td>\n",
       "      <td>0.891988</td>\n",
       "      <td>0.703331</td>\n",
       "      <td>0.264478</td>\n",
       "      <td>0.600636</td>\n",
       "      <td>0.697096</td>\n",
       "      <td>...</td>\n",
       "      <td>0.620919</td>\n",
       "      <td>0.301540</td>\n",
       "      <td>0.687464</td>\n",
       "      <td>0.400168</td>\n",
       "      <td>0.908198</td>\n",
       "      <td>0.272901</td>\n",
       "      <td>0.222430</td>\n",
       "      <td>0.748324</td>\n",
       "      <td>0.858802</td>\n",
       "      <td>0.362829</td>\n",
       "    </tr>\n",
       "  </tbody>\n",
       "</table>\n",
       "<p>2 rows × 302 columns</p>\n",
       "</div>"
      ],
      "text/plain": [
       "   investment_id  time_id       f_0       f_1       f_2       f_3       f_4  \\\n",
       "0              1     1220  0.874944  0.457875  0.962572  0.372061  0.004509   \n",
       "1              2     1220  0.554862  0.445478  0.714034  0.891988  0.703331   \n",
       "\n",
       "        f_5       f_6       f_7  ...     f_290     f_291     f_292     f_293  \\\n",
       "0  0.971304  0.097477  0.246080  ...  0.514031  0.828523  0.437697  0.810764   \n",
       "1  0.264478  0.600636  0.697096  ...  0.620919  0.301540  0.687464  0.400168   \n",
       "\n",
       "      f_294     f_295     f_296     f_297     f_298     f_299  \n",
       "0  0.693963  0.186403  0.569144  0.120386  0.419603  0.936966  \n",
       "1  0.908198  0.272901  0.222430  0.748324  0.858802  0.362829  \n",
       "\n",
       "[2 rows x 302 columns]"
      ]
     },
     "metadata": {},
     "output_type": "display_data"
    },
    {
     "data": {
      "text/plain": [
       "(2, 302)"
      ]
     },
     "metadata": {},
     "output_type": "display_data"
    },
    {
     "name": "stdout",
     "output_type": "stream",
     "text": [
      "Prediction: tensor([[-0.0876]], device='cuda:0', grad_fn=<AddmmBackward>)\n",
      "Prediction: tensor([[0.0177]], device='cuda:0', grad_fn=<AddmmBackward>)\n",
      "test_df as loaded by the API\n"
     ]
    },
    {
     "data": {
      "text/html": [
       "<div>\n",
       "<style scoped>\n",
       "    .dataframe tbody tr th:only-of-type {\n",
       "        vertical-align: middle;\n",
       "    }\n",
       "\n",
       "    .dataframe tbody tr th {\n",
       "        vertical-align: top;\n",
       "    }\n",
       "\n",
       "    .dataframe thead th {\n",
       "        text-align: right;\n",
       "    }\n",
       "</style>\n",
       "<table border=\"1\" class=\"dataframe\">\n",
       "  <thead>\n",
       "    <tr style=\"text-align: right;\">\n",
       "      <th></th>\n",
       "      <th>row_id</th>\n",
       "      <th>investment_id</th>\n",
       "      <th>f_0</th>\n",
       "      <th>f_1</th>\n",
       "      <th>f_2</th>\n",
       "      <th>f_3</th>\n",
       "      <th>f_4</th>\n",
       "      <th>f_5</th>\n",
       "      <th>f_6</th>\n",
       "      <th>f_7</th>\n",
       "      <th>...</th>\n",
       "      <th>f_290</th>\n",
       "      <th>f_291</th>\n",
       "      <th>f_292</th>\n",
       "      <th>f_293</th>\n",
       "      <th>f_294</th>\n",
       "      <th>f_295</th>\n",
       "      <th>f_296</th>\n",
       "      <th>f_297</th>\n",
       "      <th>f_298</th>\n",
       "      <th>f_299</th>\n",
       "    </tr>\n",
       "  </thead>\n",
       "  <tbody>\n",
       "    <tr>\n",
       "      <th>0</th>\n",
       "      <td>1221_0</td>\n",
       "      <td>0</td>\n",
       "      <td>0.175070</td>\n",
       "      <td>0.918464</td>\n",
       "      <td>0.044379</td>\n",
       "      <td>0.505868</td>\n",
       "      <td>0.037160</td>\n",
       "      <td>0.169001</td>\n",
       "      <td>0.211365</td>\n",
       "      <td>0.791252</td>\n",
       "      <td>...</td>\n",
       "      <td>0.397710</td>\n",
       "      <td>0.789382</td>\n",
       "      <td>0.238078</td>\n",
       "      <td>0.254068</td>\n",
       "      <td>0.795084</td>\n",
       "      <td>0.491928</td>\n",
       "      <td>0.376725</td>\n",
       "      <td>0.079489</td>\n",
       "      <td>0.995041</td>\n",
       "      <td>0.482283</td>\n",
       "    </tr>\n",
       "    <tr>\n",
       "      <th>1</th>\n",
       "      <td>1221_1</td>\n",
       "      <td>1</td>\n",
       "      <td>0.355239</td>\n",
       "      <td>0.689773</td>\n",
       "      <td>0.452643</td>\n",
       "      <td>0.134863</td>\n",
       "      <td>0.794958</td>\n",
       "      <td>0.837197</td>\n",
       "      <td>0.036773</td>\n",
       "      <td>0.713466</td>\n",
       "      <td>...</td>\n",
       "      <td>0.893571</td>\n",
       "      <td>0.322879</td>\n",
       "      <td>0.674692</td>\n",
       "      <td>0.114160</td>\n",
       "      <td>0.818483</td>\n",
       "      <td>0.287065</td>\n",
       "      <td>0.710537</td>\n",
       "      <td>0.550434</td>\n",
       "      <td>0.899869</td>\n",
       "      <td>0.928997</td>\n",
       "    </tr>\n",
       "    <tr>\n",
       "      <th>2</th>\n",
       "      <td>1221_2</td>\n",
       "      <td>2</td>\n",
       "      <td>0.912778</td>\n",
       "      <td>0.462684</td>\n",
       "      <td>0.454067</td>\n",
       "      <td>0.491009</td>\n",
       "      <td>0.050547</td>\n",
       "      <td>0.250051</td>\n",
       "      <td>0.686295</td>\n",
       "      <td>0.666958</td>\n",
       "      <td>...</td>\n",
       "      <td>0.031662</td>\n",
       "      <td>0.703427</td>\n",
       "      <td>0.861476</td>\n",
       "      <td>0.897927</td>\n",
       "      <td>0.659051</td>\n",
       "      <td>0.356148</td>\n",
       "      <td>0.375990</td>\n",
       "      <td>0.209798</td>\n",
       "      <td>0.175153</td>\n",
       "      <td>0.727160</td>\n",
       "    </tr>\n",
       "  </tbody>\n",
       "</table>\n",
       "<p>3 rows × 302 columns</p>\n",
       "</div>"
      ],
      "text/plain": [
       "   row_id  investment_id       f_0       f_1       f_2       f_3       f_4  \\\n",
       "0  1221_0              0  0.175070  0.918464  0.044379  0.505868  0.037160   \n",
       "1  1221_1              1  0.355239  0.689773  0.452643  0.134863  0.794958   \n",
       "2  1221_2              2  0.912778  0.462684  0.454067  0.491009  0.050547   \n",
       "\n",
       "        f_5       f_6       f_7  ...     f_290     f_291     f_292     f_293  \\\n",
       "0  0.169001  0.211365  0.791252  ...  0.397710  0.789382  0.238078  0.254068   \n",
       "1  0.837197  0.036773  0.713466  ...  0.893571  0.322879  0.674692  0.114160   \n",
       "2  0.250051  0.686295  0.666958  ...  0.031662  0.703427  0.861476  0.897927   \n",
       "\n",
       "      f_294     f_295     f_296     f_297     f_298     f_299  \n",
       "0  0.795084  0.491928  0.376725  0.079489  0.995041  0.482283  \n",
       "1  0.818483  0.287065  0.710537  0.550434  0.899869  0.928997  \n",
       "2  0.659051  0.356148  0.375990  0.209798  0.175153  0.727160  \n",
       "\n",
       "[3 rows x 302 columns]"
      ]
     },
     "metadata": {},
     "output_type": "display_data"
    },
    {
     "data": {
      "text/plain": [
       "(3, 302)"
      ]
     },
     "metadata": {},
     "output_type": "display_data"
    },
    {
     "name": "stdout",
     "output_type": "stream",
     "text": [
      "test_df after selecting/creating the features the model was trained with\n"
     ]
    },
    {
     "data": {
      "text/html": [
       "<div>\n",
       "<style scoped>\n",
       "    .dataframe tbody tr th:only-of-type {\n",
       "        vertical-align: middle;\n",
       "    }\n",
       "\n",
       "    .dataframe tbody tr th {\n",
       "        vertical-align: top;\n",
       "    }\n",
       "\n",
       "    .dataframe thead th {\n",
       "        text-align: right;\n",
       "    }\n",
       "</style>\n",
       "<table border=\"1\" class=\"dataframe\">\n",
       "  <thead>\n",
       "    <tr style=\"text-align: right;\">\n",
       "      <th></th>\n",
       "      <th>investment_id</th>\n",
       "      <th>time_id</th>\n",
       "      <th>f_0</th>\n",
       "      <th>f_1</th>\n",
       "      <th>f_2</th>\n",
       "      <th>f_3</th>\n",
       "      <th>f_4</th>\n",
       "      <th>f_5</th>\n",
       "      <th>f_6</th>\n",
       "      <th>f_7</th>\n",
       "      <th>...</th>\n",
       "      <th>f_290</th>\n",
       "      <th>f_291</th>\n",
       "      <th>f_292</th>\n",
       "      <th>f_293</th>\n",
       "      <th>f_294</th>\n",
       "      <th>f_295</th>\n",
       "      <th>f_296</th>\n",
       "      <th>f_297</th>\n",
       "      <th>f_298</th>\n",
       "      <th>f_299</th>\n",
       "    </tr>\n",
       "  </thead>\n",
       "  <tbody>\n",
       "    <tr>\n",
       "      <th>0</th>\n",
       "      <td>0</td>\n",
       "      <td>1221</td>\n",
       "      <td>0.175070</td>\n",
       "      <td>0.918464</td>\n",
       "      <td>0.044379</td>\n",
       "      <td>0.505868</td>\n",
       "      <td>0.037160</td>\n",
       "      <td>0.169001</td>\n",
       "      <td>0.211365</td>\n",
       "      <td>0.791252</td>\n",
       "      <td>...</td>\n",
       "      <td>0.397710</td>\n",
       "      <td>0.789382</td>\n",
       "      <td>0.238078</td>\n",
       "      <td>0.254068</td>\n",
       "      <td>0.795084</td>\n",
       "      <td>0.491928</td>\n",
       "      <td>0.376725</td>\n",
       "      <td>0.079489</td>\n",
       "      <td>0.995041</td>\n",
       "      <td>0.482283</td>\n",
       "    </tr>\n",
       "    <tr>\n",
       "      <th>1</th>\n",
       "      <td>1</td>\n",
       "      <td>1221</td>\n",
       "      <td>0.355239</td>\n",
       "      <td>0.689773</td>\n",
       "      <td>0.452643</td>\n",
       "      <td>0.134863</td>\n",
       "      <td>0.794958</td>\n",
       "      <td>0.837197</td>\n",
       "      <td>0.036773</td>\n",
       "      <td>0.713466</td>\n",
       "      <td>...</td>\n",
       "      <td>0.893571</td>\n",
       "      <td>0.322879</td>\n",
       "      <td>0.674692</td>\n",
       "      <td>0.114160</td>\n",
       "      <td>0.818483</td>\n",
       "      <td>0.287065</td>\n",
       "      <td>0.710537</td>\n",
       "      <td>0.550434</td>\n",
       "      <td>0.899869</td>\n",
       "      <td>0.928997</td>\n",
       "    </tr>\n",
       "    <tr>\n",
       "      <th>2</th>\n",
       "      <td>2</td>\n",
       "      <td>1221</td>\n",
       "      <td>0.912778</td>\n",
       "      <td>0.462684</td>\n",
       "      <td>0.454067</td>\n",
       "      <td>0.491009</td>\n",
       "      <td>0.050547</td>\n",
       "      <td>0.250051</td>\n",
       "      <td>0.686295</td>\n",
       "      <td>0.666958</td>\n",
       "      <td>...</td>\n",
       "      <td>0.031662</td>\n",
       "      <td>0.703427</td>\n",
       "      <td>0.861476</td>\n",
       "      <td>0.897927</td>\n",
       "      <td>0.659051</td>\n",
       "      <td>0.356148</td>\n",
       "      <td>0.375990</td>\n",
       "      <td>0.209798</td>\n",
       "      <td>0.175153</td>\n",
       "      <td>0.727160</td>\n",
       "    </tr>\n",
       "  </tbody>\n",
       "</table>\n",
       "<p>3 rows × 302 columns</p>\n",
       "</div>"
      ],
      "text/plain": [
       "   investment_id  time_id       f_0       f_1       f_2       f_3       f_4  \\\n",
       "0              0     1221  0.175070  0.918464  0.044379  0.505868  0.037160   \n",
       "1              1     1221  0.355239  0.689773  0.452643  0.134863  0.794958   \n",
       "2              2     1221  0.912778  0.462684  0.454067  0.491009  0.050547   \n",
       "\n",
       "        f_5       f_6       f_7  ...     f_290     f_291     f_292     f_293  \\\n",
       "0  0.169001  0.211365  0.791252  ...  0.397710  0.789382  0.238078  0.254068   \n",
       "1  0.837197  0.036773  0.713466  ...  0.893571  0.322879  0.674692  0.114160   \n",
       "2  0.250051  0.686295  0.666958  ...  0.031662  0.703427  0.861476  0.897927   \n",
       "\n",
       "      f_294     f_295     f_296     f_297     f_298     f_299  \n",
       "0  0.795084  0.491928  0.376725  0.079489  0.995041  0.482283  \n",
       "1  0.818483  0.287065  0.710537  0.550434  0.899869  0.928997  \n",
       "2  0.659051  0.356148  0.375990  0.209798  0.175153  0.727160  \n",
       "\n",
       "[3 rows x 302 columns]"
      ]
     },
     "metadata": {},
     "output_type": "display_data"
    },
    {
     "data": {
      "text/plain": [
       "(3, 302)"
      ]
     },
     "metadata": {},
     "output_type": "display_data"
    },
    {
     "name": "stdout",
     "output_type": "stream",
     "text": [
      "Prediction: tensor([[-0.0269]], device='cuda:0', grad_fn=<AddmmBackward>)\n",
      "Prediction: tensor([[-0.0382]], device='cuda:0', grad_fn=<AddmmBackward>)\n",
      "Prediction: tensor([[-0.0423]], device='cuda:0', grad_fn=<AddmmBackward>)\n",
      "test_df as loaded by the API\n"
     ]
    },
    {
     "data": {
      "text/html": [
       "<div>\n",
       "<style scoped>\n",
       "    .dataframe tbody tr th:only-of-type {\n",
       "        vertical-align: middle;\n",
       "    }\n",
       "\n",
       "    .dataframe tbody tr th {\n",
       "        vertical-align: top;\n",
       "    }\n",
       "\n",
       "    .dataframe thead th {\n",
       "        text-align: right;\n",
       "    }\n",
       "</style>\n",
       "<table border=\"1\" class=\"dataframe\">\n",
       "  <thead>\n",
       "    <tr style=\"text-align: right;\">\n",
       "      <th></th>\n",
       "      <th>row_id</th>\n",
       "      <th>investment_id</th>\n",
       "      <th>f_0</th>\n",
       "      <th>f_1</th>\n",
       "      <th>f_2</th>\n",
       "      <th>f_3</th>\n",
       "      <th>f_4</th>\n",
       "      <th>f_5</th>\n",
       "      <th>f_6</th>\n",
       "      <th>f_7</th>\n",
       "      <th>...</th>\n",
       "      <th>f_290</th>\n",
       "      <th>f_291</th>\n",
       "      <th>f_292</th>\n",
       "      <th>f_293</th>\n",
       "      <th>f_294</th>\n",
       "      <th>f_295</th>\n",
       "      <th>f_296</th>\n",
       "      <th>f_297</th>\n",
       "      <th>f_298</th>\n",
       "      <th>f_299</th>\n",
       "    </tr>\n",
       "  </thead>\n",
       "  <tbody>\n",
       "    <tr>\n",
       "      <th>0</th>\n",
       "      <td>1222_0</td>\n",
       "      <td>0</td>\n",
       "      <td>0.678116</td>\n",
       "      <td>0.158996</td>\n",
       "      <td>0.058148</td>\n",
       "      <td>0.253677</td>\n",
       "      <td>0.984982</td>\n",
       "      <td>0.323493</td>\n",
       "      <td>0.307990</td>\n",
       "      <td>0.683907</td>\n",
       "      <td>...</td>\n",
       "      <td>0.439604</td>\n",
       "      <td>0.487491</td>\n",
       "      <td>0.080697</td>\n",
       "      <td>0.539750</td>\n",
       "      <td>0.246645</td>\n",
       "      <td>0.435054</td>\n",
       "      <td>0.436709</td>\n",
       "      <td>0.315042</td>\n",
       "      <td>0.133657</td>\n",
       "      <td>0.731483</td>\n",
       "    </tr>\n",
       "    <tr>\n",
       "      <th>1</th>\n",
       "      <td>1222_1</td>\n",
       "      <td>1</td>\n",
       "      <td>0.769912</td>\n",
       "      <td>0.060028</td>\n",
       "      <td>0.676047</td>\n",
       "      <td>0.853550</td>\n",
       "      <td>0.411155</td>\n",
       "      <td>0.747515</td>\n",
       "      <td>0.649063</td>\n",
       "      <td>0.628536</td>\n",
       "      <td>...</td>\n",
       "      <td>0.419152</td>\n",
       "      <td>0.659254</td>\n",
       "      <td>0.198072</td>\n",
       "      <td>0.655397</td>\n",
       "      <td>0.428209</td>\n",
       "      <td>0.769999</td>\n",
       "      <td>0.960219</td>\n",
       "      <td>0.734675</td>\n",
       "      <td>0.028576</td>\n",
       "      <td>0.320976</td>\n",
       "    </tr>\n",
       "    <tr>\n",
       "      <th>2</th>\n",
       "      <td>1222_2</td>\n",
       "      <td>2</td>\n",
       "      <td>0.738876</td>\n",
       "      <td>0.980038</td>\n",
       "      <td>0.696796</td>\n",
       "      <td>0.591012</td>\n",
       "      <td>0.882052</td>\n",
       "      <td>0.311484</td>\n",
       "      <td>0.729229</td>\n",
       "      <td>0.516416</td>\n",
       "      <td>...</td>\n",
       "      <td>0.341144</td>\n",
       "      <td>0.758328</td>\n",
       "      <td>0.010728</td>\n",
       "      <td>0.276859</td>\n",
       "      <td>0.979913</td>\n",
       "      <td>0.486605</td>\n",
       "      <td>0.670140</td>\n",
       "      <td>0.515824</td>\n",
       "      <td>0.580929</td>\n",
       "      <td>0.139308</td>\n",
       "    </tr>\n",
       "  </tbody>\n",
       "</table>\n",
       "<p>3 rows × 302 columns</p>\n",
       "</div>"
      ],
      "text/plain": [
       "   row_id  investment_id       f_0       f_1       f_2       f_3       f_4  \\\n",
       "0  1222_0              0  0.678116  0.158996  0.058148  0.253677  0.984982   \n",
       "1  1222_1              1  0.769912  0.060028  0.676047  0.853550  0.411155   \n",
       "2  1222_2              2  0.738876  0.980038  0.696796  0.591012  0.882052   \n",
       "\n",
       "        f_5       f_6       f_7  ...     f_290     f_291     f_292     f_293  \\\n",
       "0  0.323493  0.307990  0.683907  ...  0.439604  0.487491  0.080697  0.539750   \n",
       "1  0.747515  0.649063  0.628536  ...  0.419152  0.659254  0.198072  0.655397   \n",
       "2  0.311484  0.729229  0.516416  ...  0.341144  0.758328  0.010728  0.276859   \n",
       "\n",
       "      f_294     f_295     f_296     f_297     f_298     f_299  \n",
       "0  0.246645  0.435054  0.436709  0.315042  0.133657  0.731483  \n",
       "1  0.428209  0.769999  0.960219  0.734675  0.028576  0.320976  \n",
       "2  0.979913  0.486605  0.670140  0.515824  0.580929  0.139308  \n",
       "\n",
       "[3 rows x 302 columns]"
      ]
     },
     "metadata": {},
     "output_type": "display_data"
    },
    {
     "data": {
      "text/plain": [
       "(3, 302)"
      ]
     },
     "metadata": {},
     "output_type": "display_data"
    },
    {
     "name": "stdout",
     "output_type": "stream",
     "text": [
      "test_df after selecting/creating the features the model was trained with\n"
     ]
    },
    {
     "data": {
      "text/html": [
       "<div>\n",
       "<style scoped>\n",
       "    .dataframe tbody tr th:only-of-type {\n",
       "        vertical-align: middle;\n",
       "    }\n",
       "\n",
       "    .dataframe tbody tr th {\n",
       "        vertical-align: top;\n",
       "    }\n",
       "\n",
       "    .dataframe thead th {\n",
       "        text-align: right;\n",
       "    }\n",
       "</style>\n",
       "<table border=\"1\" class=\"dataframe\">\n",
       "  <thead>\n",
       "    <tr style=\"text-align: right;\">\n",
       "      <th></th>\n",
       "      <th>investment_id</th>\n",
       "      <th>time_id</th>\n",
       "      <th>f_0</th>\n",
       "      <th>f_1</th>\n",
       "      <th>f_2</th>\n",
       "      <th>f_3</th>\n",
       "      <th>f_4</th>\n",
       "      <th>f_5</th>\n",
       "      <th>f_6</th>\n",
       "      <th>f_7</th>\n",
       "      <th>...</th>\n",
       "      <th>f_290</th>\n",
       "      <th>f_291</th>\n",
       "      <th>f_292</th>\n",
       "      <th>f_293</th>\n",
       "      <th>f_294</th>\n",
       "      <th>f_295</th>\n",
       "      <th>f_296</th>\n",
       "      <th>f_297</th>\n",
       "      <th>f_298</th>\n",
       "      <th>f_299</th>\n",
       "    </tr>\n",
       "  </thead>\n",
       "  <tbody>\n",
       "    <tr>\n",
       "      <th>0</th>\n",
       "      <td>0</td>\n",
       "      <td>1222</td>\n",
       "      <td>0.678116</td>\n",
       "      <td>0.158996</td>\n",
       "      <td>0.058148</td>\n",
       "      <td>0.253677</td>\n",
       "      <td>0.984982</td>\n",
       "      <td>0.323493</td>\n",
       "      <td>0.307990</td>\n",
       "      <td>0.683907</td>\n",
       "      <td>...</td>\n",
       "      <td>0.439604</td>\n",
       "      <td>0.487491</td>\n",
       "      <td>0.080697</td>\n",
       "      <td>0.539750</td>\n",
       "      <td>0.246645</td>\n",
       "      <td>0.435054</td>\n",
       "      <td>0.436709</td>\n",
       "      <td>0.315042</td>\n",
       "      <td>0.133657</td>\n",
       "      <td>0.731483</td>\n",
       "    </tr>\n",
       "    <tr>\n",
       "      <th>1</th>\n",
       "      <td>1</td>\n",
       "      <td>1222</td>\n",
       "      <td>0.769912</td>\n",
       "      <td>0.060028</td>\n",
       "      <td>0.676047</td>\n",
       "      <td>0.853550</td>\n",
       "      <td>0.411155</td>\n",
       "      <td>0.747515</td>\n",
       "      <td>0.649063</td>\n",
       "      <td>0.628536</td>\n",
       "      <td>...</td>\n",
       "      <td>0.419152</td>\n",
       "      <td>0.659254</td>\n",
       "      <td>0.198072</td>\n",
       "      <td>0.655397</td>\n",
       "      <td>0.428209</td>\n",
       "      <td>0.769999</td>\n",
       "      <td>0.960219</td>\n",
       "      <td>0.734675</td>\n",
       "      <td>0.028576</td>\n",
       "      <td>0.320976</td>\n",
       "    </tr>\n",
       "    <tr>\n",
       "      <th>2</th>\n",
       "      <td>2</td>\n",
       "      <td>1222</td>\n",
       "      <td>0.738876</td>\n",
       "      <td>0.980038</td>\n",
       "      <td>0.696796</td>\n",
       "      <td>0.591012</td>\n",
       "      <td>0.882052</td>\n",
       "      <td>0.311484</td>\n",
       "      <td>0.729229</td>\n",
       "      <td>0.516416</td>\n",
       "      <td>...</td>\n",
       "      <td>0.341144</td>\n",
       "      <td>0.758328</td>\n",
       "      <td>0.010728</td>\n",
       "      <td>0.276859</td>\n",
       "      <td>0.979913</td>\n",
       "      <td>0.486605</td>\n",
       "      <td>0.670140</td>\n",
       "      <td>0.515824</td>\n",
       "      <td>0.580929</td>\n",
       "      <td>0.139308</td>\n",
       "    </tr>\n",
       "  </tbody>\n",
       "</table>\n",
       "<p>3 rows × 302 columns</p>\n",
       "</div>"
      ],
      "text/plain": [
       "   investment_id  time_id       f_0       f_1       f_2       f_3       f_4  \\\n",
       "0              0     1222  0.678116  0.158996  0.058148  0.253677  0.984982   \n",
       "1              1     1222  0.769912  0.060028  0.676047  0.853550  0.411155   \n",
       "2              2     1222  0.738876  0.980038  0.696796  0.591012  0.882052   \n",
       "\n",
       "        f_5       f_6       f_7  ...     f_290     f_291     f_292     f_293  \\\n",
       "0  0.323493  0.307990  0.683907  ...  0.439604  0.487491  0.080697  0.539750   \n",
       "1  0.747515  0.649063  0.628536  ...  0.419152  0.659254  0.198072  0.655397   \n",
       "2  0.311484  0.729229  0.516416  ...  0.341144  0.758328  0.010728  0.276859   \n",
       "\n",
       "      f_294     f_295     f_296     f_297     f_298     f_299  \n",
       "0  0.246645  0.435054  0.436709  0.315042  0.133657  0.731483  \n",
       "1  0.428209  0.769999  0.960219  0.734675  0.028576  0.320976  \n",
       "2  0.979913  0.486605  0.670140  0.515824  0.580929  0.139308  \n",
       "\n",
       "[3 rows x 302 columns]"
      ]
     },
     "metadata": {},
     "output_type": "display_data"
    },
    {
     "data": {
      "text/plain": [
       "(3, 302)"
      ]
     },
     "metadata": {},
     "output_type": "display_data"
    },
    {
     "name": "stdout",
     "output_type": "stream",
     "text": [
      "Prediction: tensor([[-0.0146]], device='cuda:0', grad_fn=<AddmmBackward>)\n",
      "Prediction: tensor([[0.0082]], device='cuda:0', grad_fn=<AddmmBackward>)\n",
      "Prediction: tensor([[-0.0804]], device='cuda:0', grad_fn=<AddmmBackward>)\n",
      "test_df as loaded by the API\n"
     ]
    },
    {
     "data": {
      "text/html": [
       "<div>\n",
       "<style scoped>\n",
       "    .dataframe tbody tr th:only-of-type {\n",
       "        vertical-align: middle;\n",
       "    }\n",
       "\n",
       "    .dataframe tbody tr th {\n",
       "        vertical-align: top;\n",
       "    }\n",
       "\n",
       "    .dataframe thead th {\n",
       "        text-align: right;\n",
       "    }\n",
       "</style>\n",
       "<table border=\"1\" class=\"dataframe\">\n",
       "  <thead>\n",
       "    <tr style=\"text-align: right;\">\n",
       "      <th></th>\n",
       "      <th>row_id</th>\n",
       "      <th>investment_id</th>\n",
       "      <th>f_0</th>\n",
       "      <th>f_1</th>\n",
       "      <th>f_2</th>\n",
       "      <th>f_3</th>\n",
       "      <th>f_4</th>\n",
       "      <th>f_5</th>\n",
       "      <th>f_6</th>\n",
       "      <th>f_7</th>\n",
       "      <th>...</th>\n",
       "      <th>f_290</th>\n",
       "      <th>f_291</th>\n",
       "      <th>f_292</th>\n",
       "      <th>f_293</th>\n",
       "      <th>f_294</th>\n",
       "      <th>f_295</th>\n",
       "      <th>f_296</th>\n",
       "      <th>f_297</th>\n",
       "      <th>f_298</th>\n",
       "      <th>f_299</th>\n",
       "    </tr>\n",
       "  </thead>\n",
       "  <tbody>\n",
       "    <tr>\n",
       "      <th>0</th>\n",
       "      <td>1223_0</td>\n",
       "      <td>0</td>\n",
       "      <td>0.281445</td>\n",
       "      <td>0.571472</td>\n",
       "      <td>0.986828</td>\n",
       "      <td>0.021403</td>\n",
       "      <td>0.789577</td>\n",
       "      <td>0.005765</td>\n",
       "      <td>0.409379</td>\n",
       "      <td>0.952</td>\n",
       "      <td>...</td>\n",
       "      <td>0.357828</td>\n",
       "      <td>0.000019</td>\n",
       "      <td>0.50453</td>\n",
       "      <td>0.169174</td>\n",
       "      <td>0.216349</td>\n",
       "      <td>0.503643</td>\n",
       "      <td>0.052721</td>\n",
       "      <td>0.795965</td>\n",
       "      <td>0.909602</td>\n",
       "      <td>0.291668</td>\n",
       "    </tr>\n",
       "  </tbody>\n",
       "</table>\n",
       "<p>1 rows × 302 columns</p>\n",
       "</div>"
      ],
      "text/plain": [
       "   row_id  investment_id       f_0       f_1       f_2       f_3       f_4  \\\n",
       "0  1223_0              0  0.281445  0.571472  0.986828  0.021403  0.789577   \n",
       "\n",
       "        f_5       f_6    f_7  ...     f_290     f_291    f_292     f_293  \\\n",
       "0  0.005765  0.409379  0.952  ...  0.357828  0.000019  0.50453  0.169174   \n",
       "\n",
       "      f_294     f_295     f_296     f_297     f_298     f_299  \n",
       "0  0.216349  0.503643  0.052721  0.795965  0.909602  0.291668  \n",
       "\n",
       "[1 rows x 302 columns]"
      ]
     },
     "metadata": {},
     "output_type": "display_data"
    },
    {
     "data": {
      "text/plain": [
       "(1, 302)"
      ]
     },
     "metadata": {},
     "output_type": "display_data"
    },
    {
     "name": "stdout",
     "output_type": "stream",
     "text": [
      "test_df after selecting/creating the features the model was trained with\n"
     ]
    },
    {
     "data": {
      "text/html": [
       "<div>\n",
       "<style scoped>\n",
       "    .dataframe tbody tr th:only-of-type {\n",
       "        vertical-align: middle;\n",
       "    }\n",
       "\n",
       "    .dataframe tbody tr th {\n",
       "        vertical-align: top;\n",
       "    }\n",
       "\n",
       "    .dataframe thead th {\n",
       "        text-align: right;\n",
       "    }\n",
       "</style>\n",
       "<table border=\"1\" class=\"dataframe\">\n",
       "  <thead>\n",
       "    <tr style=\"text-align: right;\">\n",
       "      <th></th>\n",
       "      <th>investment_id</th>\n",
       "      <th>time_id</th>\n",
       "      <th>f_0</th>\n",
       "      <th>f_1</th>\n",
       "      <th>f_2</th>\n",
       "      <th>f_3</th>\n",
       "      <th>f_4</th>\n",
       "      <th>f_5</th>\n",
       "      <th>f_6</th>\n",
       "      <th>f_7</th>\n",
       "      <th>...</th>\n",
       "      <th>f_290</th>\n",
       "      <th>f_291</th>\n",
       "      <th>f_292</th>\n",
       "      <th>f_293</th>\n",
       "      <th>f_294</th>\n",
       "      <th>f_295</th>\n",
       "      <th>f_296</th>\n",
       "      <th>f_297</th>\n",
       "      <th>f_298</th>\n",
       "      <th>f_299</th>\n",
       "    </tr>\n",
       "  </thead>\n",
       "  <tbody>\n",
       "    <tr>\n",
       "      <th>0</th>\n",
       "      <td>0</td>\n",
       "      <td>1223</td>\n",
       "      <td>0.281445</td>\n",
       "      <td>0.571472</td>\n",
       "      <td>0.986828</td>\n",
       "      <td>0.021403</td>\n",
       "      <td>0.789577</td>\n",
       "      <td>0.005765</td>\n",
       "      <td>0.409379</td>\n",
       "      <td>0.952</td>\n",
       "      <td>...</td>\n",
       "      <td>0.357828</td>\n",
       "      <td>0.000019</td>\n",
       "      <td>0.50453</td>\n",
       "      <td>0.169174</td>\n",
       "      <td>0.216349</td>\n",
       "      <td>0.503643</td>\n",
       "      <td>0.052721</td>\n",
       "      <td>0.795965</td>\n",
       "      <td>0.909602</td>\n",
       "      <td>0.291668</td>\n",
       "    </tr>\n",
       "  </tbody>\n",
       "</table>\n",
       "<p>1 rows × 302 columns</p>\n",
       "</div>"
      ],
      "text/plain": [
       "   investment_id  time_id       f_0       f_1       f_2       f_3       f_4  \\\n",
       "0              0     1223  0.281445  0.571472  0.986828  0.021403  0.789577   \n",
       "\n",
       "        f_5       f_6    f_7  ...     f_290     f_291    f_292     f_293  \\\n",
       "0  0.005765  0.409379  0.952  ...  0.357828  0.000019  0.50453  0.169174   \n",
       "\n",
       "      f_294     f_295     f_296     f_297     f_298     f_299  \n",
       "0  0.216349  0.503643  0.052721  0.795965  0.909602  0.291668  \n",
       "\n",
       "[1 rows x 302 columns]"
      ]
     },
     "metadata": {},
     "output_type": "display_data"
    },
    {
     "data": {
      "text/plain": [
       "(1, 302)"
      ]
     },
     "metadata": {},
     "output_type": "display_data"
    },
    {
     "name": "stdout",
     "output_type": "stream",
     "text": [
      "Prediction: tensor([[-0.0038]], device='cuda:0', grad_fn=<AddmmBackward>)\n"
     ]
    }
   ],
   "source": [
    "import ubiquant\n",
    "env = ubiquant.make_env()   # initialize the environment\n",
    "iter_test = env.iter_test()    # an iterator which loops over the test set and sample submission\n",
    "for (test_df, sample_prediction_df) in iter_test:\n",
    "    \n",
    "    print(\"test_df as loaded by the API\")\n",
    "    display(test_df.head(), test_df.shape)\n",
    "    #display(sample_prediction_df.head(), sample_prediction_df.shape)\n",
    "    \n",
    "    # here you need to modify test_df to match the training data\n",
    "    test_df['time_id'] = test_df.row_id.str.split(\"_\", expand=True)[0].astype(\"int16\") #re-create time_id\n",
    "    test_df = test_df[cols_order]  \n",
    "    print(\"test_df after selecting/creating the features the model was trained with\")\n",
    "    display(test_df.head(), test_df.shape)\n",
    "    \n",
    "    # Call our function to make predictions\n",
    "    predictions = predict_for_test_data(test_df)\n",
    "    sample_prediction_df['target'] = predictions  # make your predictions here\n",
    "    env.predict(sample_prediction_df)   # register your predictions\n",
    "    \n",
    "    # print(\"Predictions for this time_id\")\n",
    "    # display(sample_prediction_df)\n",
    "    # print(\"-----------time_id finished-----------\\n\\n\")"
   ]
  },
  {
   "cell_type": "code",
   "execution_count": null,
   "id": "c093c507",
   "metadata": {
    "papermill": {
     "duration": 0.135319,
     "end_time": "2022-02-20T05:42:57.647487",
     "exception": false,
     "start_time": "2022-02-20T05:42:57.512168",
     "status": "completed"
    },
    "tags": []
   },
   "outputs": [],
   "source": []
  }
 ],
 "metadata": {
  "kernelspec": {
   "display_name": "Python 3",
   "language": "python",
   "name": "python3"
  },
  "language_info": {
   "codemirror_mode": {
    "name": "ipython",
    "version": 3
   },
   "file_extension": ".py",
   "mimetype": "text/x-python",
   "name": "python",
   "nbconvert_exporter": "python",
   "pygments_lexer": "ipython3",
   "version": "3.7.12"
  },
  "papermill": {
   "default_parameters": {},
   "duration": 13818.463805,
   "end_time": "2022-02-20T05:42:59.326805",
   "environment_variables": {},
   "exception": null,
   "input_path": "__notebook__.ipynb",
   "output_path": "__notebook__.ipynb",
   "parameters": {},
   "start_time": "2022-02-20T01:52:40.863000",
   "version": "2.3.3"
  }
 },
 "nbformat": 4,
 "nbformat_minor": 5
}
